{
 "cells": [
  {
   "cell_type": "code",
   "execution_count": null,
   "metadata": {},
   "outputs": [],
   "source": [
    "import pickle\n",
    "import re\n",
    "import unicodedata\n",
    "import string\n",
    "import tarfile\n",
    "import os.path"
   ]
  },
  {
   "cell_type": "code",
   "execution_count": null,
   "metadata": {},
   "outputs": [],
   "source": [
    "def load_pickle(filename, **kwargs):\n",
    "    for key, value in kwargs.items():\n",
    "        filename_ = filename+'-'+key+'.pickle'\n",
    "\n",
    "        if not os.path.isfile(filename_):\n",
    "            tar = tarfile.open(filename_+'.tar.bz2')\n",
    "            tar.extractall()\n",
    "            tar.close()\n",
    "        \n",
    "        with open(filename_, 'rb') as handle:\n",
    "            kwargs[key] = pickle.load(handle)\n",
    "            \n",
    "    return list(kwargs.values())\n",
    "            "
   ]
  },
  {
   "cell_type": "code",
   "execution_count": null,
   "metadata": {},
   "outputs": [],
   "source": [
    "def save_pickle(filename, **kwargs):\n",
    "    for key, value in kwargs.items():\n",
    "        with open(filename+'-'+key+'.pickle', 'wb') as handle:\n",
    "            pickle.dump(value, handle, protocol=pickle.HIGHEST_PROTOCOL)"
   ]
  },
  {
   "cell_type": "code",
   "execution_count": null,
   "metadata": {},
   "outputs": [],
   "source": [
    "def get_filename(root):\n",
    "    chars_to_remove = ['.', '/', ':']\n",
    "    rx = '[' + re.escape(''.join(chars_to_remove)) + ']'\n",
    "    return re.sub(rx, '', root)"
   ]
  },
  {
   "cell_type": "code",
   "execution_count": null,
   "metadata": {},
   "outputs": [],
   "source": [
    "def decode_string(sb):\n",
    "    return ''.join(filter(lambda x: x in string.printable, bytes(sb, \"utf-8\").decode(\"unicode_escape\")))"
   ]
  },
  {
   "cell_type": "code",
   "execution_count": null,
   "metadata": {},
   "outputs": [],
   "source": [
    "def walk_on_pairs(dic,pos,nb):\n",
    "    keys_list = list(dic.keys())[pos:pos+nb]\n",
    "    for url in keys_list:\n",
    "        print(url,'\\n')\n",
    "        print(dic[url],'\\n')"
   ]
  },
  {
   "cell_type": "code",
   "execution_count": null,
   "metadata": {},
   "outputs": [],
   "source": [
    "def write_output(output_file):\n",
    "    with open(output_file, \"w\") as f:\n",
    "        for s in docs:\n",
    "            f.write(str(s) +\"\\n\")\n",
    "\n",
    "    tar = tarfile.open(output_file+\".tar.bz2\", \"w:bz2\")\n",
    "    tar.add(output_file)\n",
    "    tar.close()\n",
    "    os.remove(output_file)"
   ]
  },
  {
   "cell_type": "code",
   "execution_count": null,
   "metadata": {},
   "outputs": [],
   "source": [
    "root = 'http://www.lemans.fr' #website crawled\n",
    "output_file = 'doc.txt'\n",
    "\n",
    "links, passed_links = load_pickle(get_filename(root), links={}, passed_links={})\n",
    "print(str(len(links))+' paires chargées')\n",
    "\n",
    "docs = [value.replace('\\n','').replace('\\t','').replace('\\r','') for key, value in links.items()]\n",
    "write_output(output_file)\n",
    "print(str(len(docs))+' paires exported')"
   ]
  },
  {
   "cell_type": "code",
   "execution_count": null,
   "metadata": {},
   "outputs": [],
   "source": [
    "walk_on_pairs(links,0,2)"
   ]
  },
  {
   "cell_type": "markdown",
   "metadata": {},
   "source": [
    "# Cleaning bad values"
   ]
  },
  {
   "cell_type": "markdown",
   "metadata": {},
   "source": [
    "### DEAL with outdated browser message"
   ]
  },
  {
   "cell_type": "code",
   "execution_count": null,
   "metadata": {},
   "outputs": [],
   "source": [
    "outdated_browser_msg = 'outdated browser'"
   ]
  },
  {
   "cell_type": "code",
   "execution_count": null,
   "metadata": {},
   "outputs": [],
   "source": [
    "outdated_browser = [key for key, value in links.items() if outdated_browser_msg in value]\n",
    "print(len(outdated_browser))"
   ]
  },
  {
   "cell_type": "code",
   "execution_count": null,
   "metadata": {},
   "outputs": [],
   "source": [
    "for page in outdated_browser:\n",
    "    links[page] = False"
   ]
  },
  {
   "cell_type": "code",
   "execution_count": null,
   "metadata": {},
   "outputs": [],
   "source": [
    "save_pickle(get_filename(root), links=links, passed_links=passed_links)"
   ]
  },
  {
   "cell_type": "markdown",
   "metadata": {},
   "source": [
    "### DEAL with pdf content pages"
   ]
  },
  {
   "cell_type": "code",
   "execution_count": null,
   "metadata": {},
   "outputs": [],
   "source": [
    "pdf_pages = [key for key, value in links.items() if (isinstance(value, str) and '%PDF-1' in value) or (key[-4:] == '.pdf') or (key[-8:] == 'type=125')]\n",
    "print(len(pdf_pages))"
   ]
  },
  {
   "cell_type": "code",
   "execution_count": null,
   "metadata": {},
   "outputs": [],
   "source": [
    "for page in pdf_pages:\n",
    "    passed_links[page]=False\n",
    "    del links[page]"
   ]
  },
  {
   "cell_type": "code",
   "execution_count": null,
   "metadata": {},
   "outputs": [],
   "source": [
    "pdf_pages = [key for key, value in links.items() if (isinstance(value, str) and '%PDF-1' in value) or (key[-4:] == '.pdf') or (key[-8:] == 'type=125')]\n",
    "print(len(pdf_pages))"
   ]
  },
  {
   "cell_type": "code",
   "execution_count": null,
   "metadata": {},
   "outputs": [],
   "source": [
    "save_pickle(get_filename(root), links=links, passed_links=passed_links)"
   ]
  },
  {
   "cell_type": "markdown",
   "metadata": {},
   "source": [
    "### DEAL with .zip .pdf .jpg .png .jpeg pages"
   ]
  },
  {
   "cell_type": "code",
   "execution_count": null,
   "metadata": {},
   "outputs": [],
   "source": [
    "pages = [key for key, value in links.items() if (key[-4:] == '.zip') or (key[-4:] == '.pdf')  \n",
    "                                             or (key[-4:] == '.jpg') or (key[-4:] == '.png') \n",
    "                                             or (key[-5:] == '.jpeg') or (key[-4:] == '.mp3')\n",
    "                                             or (key[-4:] == '.dot') or (key[-4:] == '.doc')  \n",
    "                                             or (key[-4:] == '.JPG')]\n",
    "print(len(pages))"
   ]
  },
  {
   "cell_type": "code",
   "execution_count": null,
   "metadata": {},
   "outputs": [],
   "source": [
    "for page in pages:\n",
    "    passed_links[page]=False\n",
    "    del links[page]"
   ]
  },
  {
   "cell_type": "code",
   "execution_count": null,
   "metadata": {},
   "outputs": [],
   "source": [
    "pages = [key for key, value in links.items() if (key[-4:] == '.zip') or (key[-4:] == '.pdf')  \n",
    "                                             or (key[-4:] == '.jpg') or (key[-4:] == '.png') \n",
    "                                             or (key[-5:] == '.jpeg') or (key[-4:] == '.mp3')\n",
    "                                             or (key[-4:] == '.dot') or (key[-4:] == '.doc')  \n",
    "                                             or (key[-4:] == '.JPG')]\n",
    "print(len(pages))"
   ]
  },
  {
   "cell_type": "code",
   "execution_count": null,
   "metadata": {},
   "outputs": [],
   "source": [
    "save_pickle(get_filename(root), links=links, passed_links=passed_links)"
   ]
  },
  {
   "cell_type": "markdown",
   "metadata": {},
   "source": [
    "### DEAL with 'le detail de l'actualite' pages"
   ]
  },
  {
   "cell_type": "code",
   "execution_count": null,
   "metadata": {},
   "outputs": [],
   "source": [
    "pages = [key for key, value in links.items() if 'details-de-lactualite' in key]\n",
    "print(len(pages))"
   ]
  },
  {
   "cell_type": "code",
   "execution_count": null,
   "metadata": {},
   "outputs": [],
   "source": [
    "for page in pages:\n",
    "    passed_links[page]=False\n",
    "    del links[page]"
   ]
  },
  {
   "cell_type": "code",
   "execution_count": null,
   "metadata": {},
   "outputs": [],
   "source": [
    "pages = [key for key, value in links.items() if  'details-de-lactualite' in key]\n",
    "print(len(pages))"
   ]
  },
  {
   "cell_type": "code",
   "execution_count": null,
   "metadata": {},
   "outputs": [],
   "source": [
    "save_pickle(get_filename(root), links=links, passed_links=passed_links)"
   ]
  },
  {
   "cell_type": "markdown",
   "metadata": {},
   "source": [
    "### DEAL with undecodable pages"
   ]
  },
  {
   "cell_type": "code",
   "execution_count": null,
   "metadata": {},
   "outputs": [],
   "source": [
    "links, passed_links = load_pickle(get_filename(root))\n",
    "links_ = links.copy()\n",
    "\n",
    "for key, value in links.items():\n",
    "    try:\n",
    "        decode_string(value)\n",
    "    except:\n",
    "        print(key)\n",
    "        passed_links[key]=False\n",
    "        del links_[key]\n",
    "\n",
    "        \n",
    "save_pickle(get_filename(root), links=links_, passed_links=passed_links)"
   ]
  }
 ],
 "metadata": {
  "kernelspec": {
   "display_name": "Python 3",
   "language": "python",
   "name": "python3"
  },
  "language_info": {
   "codemirror_mode": {
    "name": "ipython",
    "version": 3
   },
   "file_extension": ".py",
   "mimetype": "text/x-python",
   "name": "python",
   "nbconvert_exporter": "python",
   "pygments_lexer": "ipython3",
   "version": "3.7.0"
  }
 },
 "nbformat": 4,
 "nbformat_minor": 2
}
