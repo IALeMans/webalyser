{
 "cells": [
  {
   "cell_type": "code",
   "execution_count": 1,
   "metadata": {},
   "outputs": [],
   "source": [
    "import pickle\n",
    "import re\n",
    "import unicodedata\n",
    "import string\n",
    "import tarfile\n",
    "import os.path"
   ]
  },
  {
   "cell_type": "code",
   "execution_count": 2,
   "metadata": {},
   "outputs": [],
   "source": [
    "def load_pickle(filename, **kwargs):\n",
    "    for key, value in kwargs.items():\n",
    "        filename_ = filename+'-'+key+'.pickle'\n",
    "\n",
    "        if not os.path.isfile(filename_):\n",
    "            tar = tarfile.open(filename_+'.tar.bz2')\n",
    "            tar.extractall()\n",
    "            tar.close()\n",
    "        \n",
    "        with open(filename_, 'rb') as handle:\n",
    "            kwargs[key] = pickle.load(handle)\n",
    "            \n",
    "    return list(kwargs.values())\n",
    "            "
   ]
  },
  {
   "cell_type": "code",
   "execution_count": 3,
   "metadata": {},
   "outputs": [],
   "source": [
    "def save_pickle(filename, **kwargs):\n",
    "    for key, value in kwargs.items():\n",
    "        with open(filename+'-'+key+'.pickle', 'wb') as handle:\n",
    "            pickle.dump(value, handle, protocol=pickle.HIGHEST_PROTOCOL)"
   ]
  },
  {
   "cell_type": "code",
   "execution_count": 4,
   "metadata": {},
   "outputs": [],
   "source": [
    "def get_filename(root):\n",
    "    chars_to_remove = ['.', '/', ':']\n",
    "    rx = '[' + re.escape(''.join(chars_to_remove)) + ']'\n",
    "    return re.sub(rx, '', root)"
   ]
  },
  {
   "cell_type": "code",
   "execution_count": 5,
   "metadata": {},
   "outputs": [],
   "source": [
    "def decode_string(sb):\n",
    "    return ''.join(filter(lambda x: x in string.printable, bytes(sb, \"utf-8\").decode(\"unicode_escape\")))"
   ]
  },
  {
   "cell_type": "code",
   "execution_count": 6,
   "metadata": {},
   "outputs": [],
   "source": [
    "def walk_on_pairs(dic,pos,nb):\n",
    "    keys_list = list(dic.keys())[pos:pos+nb]\n",
    "    for url in keys_list:\n",
    "        print(url,'\\n')\n",
    "        print(dic[url],'\\n')"
   ]
  },
  {
   "cell_type": "code",
   "execution_count": 7,
   "metadata": {},
   "outputs": [],
   "source": [
    "def write_output(output_file,docs):\n",
    "    with open(output_file, \"w\") as f:\n",
    "        for s in docs:\n",
    "            f.write(str(s) +\"\\n\")\n",
    "\n",
    "    tar = tarfile.open(output_file+\".tar.bz2\", \"w:bz2\")\n",
    "    tar.add(output_file)\n",
    "    tar.close()\n",
    "    os.remove(output_file)"
   ]
  },
  {
   "cell_type": "code",
   "execution_count": 8,
   "metadata": {},
   "outputs": [
    {
     "name": "stdout",
     "output_type": "stream",
     "text": [
      "4847 paires chargées\n",
      "4847 paires exported\n"
     ]
    }
   ],
   "source": [
    "root = 'http://www.lemans.fr' #website crawled\n",
    "output_file = 'doc.txt'\n",
    "\n",
    "links, passed_links = load_pickle(get_filename(root), links={}, passed_links={})\n",
    "print(str(len(links))+' paires chargées')\n",
    "\n",
    "docs = [value.replace('\\n','').replace('\\t','').replace('\\r','') for key, value in links.items()]\n",
    "write_output(output_file,docs)\n",
    "print(str(len(docs))+' paires exported')"
   ]
  },
  {
   "cell_type": "code",
   "execution_count": 9,
   "metadata": {},
   "outputs": [
    {
     "name": "stdout",
     "output_type": "stream",
     "text": [
      "http://www.lemans.fr \n",
      "\n",
      "   Aller au contenu  Aller à la navigation              Les + demandés     Rechercher       Vivre + le Mans  Le site de la Ville du Mans     Mon profil Je suis…    J'ai besoin de…       Vivre + le Mans     La personne    L'état civil    Les papiers    Les formalités    Les cimetières    La solidarité    L'aide à la personne    L'Ehpad public    Les Ehpa      L'enfance et la jeunesse    Les crèches    Le relais assistantes maternelles    Les écoles    La cantine    Les accueils périscolaires    Les centres de loisirs    Le centre information jeunesse      La maison    Le logement    Le logement pour les jeunes    Les travaux    Les nouveaux quartiers    Le cadastre    L'eau    L'assainissement    Les déchets      En ville    Le centre de santé    Les transports en commun    Le stationnement    Le vélo    Les aires piétonnes    Les marchés    Les objets trouvés    Les interventions    Les animaux      Les professionnels    L'accessibilité    L'installation d'enseignes        Les élus    Le maire    Les adjoints    Les conseillers municipaux    Le calendrier des conseils    Les délibérations    Les élections      La concertation    Les visites de quartier    Les conseils des quartiers    Les conseils citoyens    Le conseil des sages    Les enquêtes publiques    Le Plu communautaire    Le budget participatif    L'aménagement Voltaire-Cordelet      Les engagements    Les fonds européens    Les aménagements urbains    Le développement durable    La politique locale de l'habitat    Le plan climat    Le programme Life +    La réduction des déchets    Les repas    Le bénévolat      Le vivre ensemble    La tranquillité publique    Le contrat de ville    Le contrat local de santé    Le handicap    L'égalité    Le Mans solidaire    Le projet éducatif local    Le renouvellement urbain    Le plan local d'urbanisme      La collectivité    Les finances    Les marchés publics    Les subventions    Les recrutements    Les ventes immobilières    L'open data        Bienvenue    Les nouveaux habitants    Le CV du Mans    L'histoire du Mans    L'année culturelle    L'année sportive    Les ambassadeurs    Le port    Les jumelages      Des idées de visite    Les musées    Les monuments    La maison du patrimoine    La Nuit des chimères    Les lieux d'exposition    Les parcs publics    Le Boulevard nature    L'Arche de la nature      Les loisirs    Les médiathèques    Les archives du Mans    Les vacances des 3-15 ans    Les seniors    Le jardinage en ville    Les salles de spectacle    Les animations de quartier    Les Saulnières      Les activités    Le conservatoire    Les activités jeunesse    Le Spot    Les écoles municipales de sport    Les piscines    L'entretien physique adultes    Les associations      La proximité    Les initiatives jeunesse    Le développement culturel    Les équipements sportifs    Les salles municipales    Les maisons de quartier    La maison pour tous    Le centre Gué-Bernisson                Retour       Le Mans   plus  de démarches        Le Mans    plus  Facile       La personne    L'état civil    Les papiers    Les formalités    Les cimetières    La solidarité    L'aide à la personne    L'Ehpad public    Les Ehpa      L'enfance et la jeunesse    Les crèches    Le relais assistantes maternelles    Les écoles    La cantine    Les accueils périscolaires    Les centres de loisirs    Le centre information jeunesse      La maison    Le logement    Le logement pour les jeunes    Les travaux    Les nouveaux quartiers    Le cadastre    L'eau    L'assainissement    Les déchets      En ville    Le centre de santé    Les transports en commun    Le stationnement    Le vélo    Les aires piétonnes    Les marchés    Les objets trouvés    Les interventions    Les animaux      Les professionnels    L'accessibilité    L'installation d'enseignes         Le Mans    plus  Citoyen       Les élus    Le maire    Les adjoints    Les conseillers municipaux    Le calendrier des conseils    Les délibérations    Les élections      La concertation    Les visites de quartier    Les conseils des quartiers    Les conseils citoyens    Le conseil des sages    Les enquêtes publiques    Le Plu communautaire    Le budget participatif    L'aménagement Voltaire-Cordelet      Les engagements    Les fonds européens    Les aménagements urbains    Le développement durable    La politique locale de l'habitat    Le plan climat    Le programme Life +    La réduction des déchets    Les repas    Le bénévolat      Le vivre ensemble    La tranquillité publique    Le contrat de ville    Le contrat local de santé    Le handicap    L'égalité    Le Mans solidaire    Le projet éducatif local    Le renouvellement urbain    Le plan local d'urbanisme      La collectivité    Les finances    Les marchés publics    Les subventions    Les recrutements    Les ventes immobilières    L'open data         Le Mans    plus  Dynamique       Bienvenue    Les nouveaux habitants    Le CV du Mans    L'histoire du Mans    L'année culturelle    L'année sportive    Les ambassadeurs    Le port    Les jumelages      Des idées de visite    Les musées    Les monuments    La maison du patrimoine    La Nuit des chimères    Les lieux d'exposition    Les parcs publics    Le Boulevard nature    L'Arche de la nature      Les loisirs    Les médiathèques    Les archives du Mans    Les vacances des 3-15 ans    Les seniors    Le jardinage en ville    Les salles de spectacle    Les animations de quartier    Les Saulnières      Les activités    Le conservatoire    Les activités jeunesse    Le Spot    Les écoles municipales de sport    Les piscines    L'entretien physique adultes    Les associations      La proximité    Les initiatives jeunesse    Le développement culturel    Les équipements sportifs    Les salles municipales    Les maisons de quartier    La maison pour tous    Le centre Gué-Bernisson           Les    plus Demandés                         Le Mans    plus de démarches    Le Mans    plus  de démarches         Formalités et action sociale     Formalités et action sociale       École et enfance     École et enfance       Logement     Logement       Voirie et urbanisme     Voirie et urbanisme       Activités et citoyenneté     Activités et citoyenneté       Pros et associations     Pros et associations       Accéder à mes démarches en ligne     Accéder à mes démarches en ligne            Formalités et action sociale         Déclarer une naissance    Demander un acte de naissance    Reconnaître mon enfant    Demander un livret de famille    Préparer un mariage civil    Préparer un parrainage civil    Déclarer un décès    Prendre une concession funéraire    Solliciter la dispersion de cendres    Demander une carte d'identité    Renouveler une carte d'identité    Demander un passeport    Renouveler un passeport    Enregistrer un Pacs    Effectuer une légalisation de signature    Faire établir une attestation d'accueil    Me faire recenser    M'inscrire sur la liste électorale    Déclarer un chien dangereux    M'inscrire au service Téléphon'âge    Recourir aux soins infirmiers à domicile           Fermer la liste des démarches pour la catégorie \"Formalités et action sociale\"          École et enfance         Inscrire mon enfant en crèche    Renouveler ma demande pour la crèche    Inscrire mon enfant à l'école    Inscrire mon enfant à la cantine scolaire    Inscrire mon enfant à l'accueil périscolaire    Inscrire mon enfant au centre de loisirs    Solliciter le dispositif de réussite éducative           Fermer la liste des démarches pour la catégorie \"École et enfance\"          Logement         Effectuer une demande de logement social    Demander un logement pour personne âgée dépendante    Demander un hébergement pour personne âgée    Demander un hébergement temporaire personne âgée    Déclarer ma nouvelle adresse    Trouver un accueil d'urgence           Fermer la liste des démarches pour la catégorie \"Logement\"          Voirie et urbanisme         Demander un permis de construire    Effectuer une déclaration préalable    Demander un certificat d'urbanisme    Demander un permis de démolir    Demander un permis d'aménager    Demander une autorisation de travaux accessibilité    Consulter le plan local d'urbanisme    Demander un renseignement cadastral    Demander un accès aux secteurs piétons           Fermer la liste des démarches pour la catégorie \"Voirie et urbanisme\"          Activités et citoyenneté         Être candidat à mon conseil des quartiers    Organiser une manifestation sportive    Organiser une manifestation culturelle    Demander une autorisation de fleurir le trottoir    Me préinscrire à un séjour seniors    Réserver une salle    M'inscrire aux écoles municipales de sport           Fermer la liste des démarches pour la catégorie \"Activités et citoyenneté\"          Pros et associations         Organiser une manifestation sportive    Demander une subvention pour mon association    Confirmer ma réservation de salle à la MPT    Réserver une salle    M'inscrire à la foire aux oignons (pro)    Demander une autorisation de travaux accessibilité    Vendre sur les marchés (pro)    Réserver un emplacement à la braderie (pro)    Demander à ouvrir un débit de boissons temporaire    Installer une enseigne           Fermer la liste des démarches pour la catégorie \"Pros et associations\"          Accéder à mes démarches en ligne         Réserver une place à la cantine    Réserver une place au centre de loisirs    Régler ma facture de cantine    Régler ma facture d'eau    Prendre rendez-vous pour un passeport    Prendre rendez-vous pour une carte d'identité    Répondre au recensement de la population    Déclarer mes taxes de séjour (pro)           Fermer la liste des démarches pour la catégorie \"Accéder à mes démarches en ligne\"             Fermer le menu secondaire     Le Mans métropole    Nos autres sites                       Accessibilité    ?    Contraste   plus    moins              Les    plus demandés       Vivre + le Mans   Les    plus demandés       L'annuaire des associations       L'agenda des sorties       Les objets trouvés       Les demandes d'intervention       Les jours de collecte       Le menu des cantines       Le journal municipal       Les postes à pourvoir         Fermer le menu \"Les + demandés\"         Vivre + le Mans      Mon profil   Je suis…    J'ai besoin de…         Jeune       Parent       Senior       Porteur de handicap       Futur habitant       Nouvel arrivant       Chef d'entreprise       Responsable associatif       Enseignant       Touriste        Déclarer une naissance      Déclarer un décès      Me faire recenser      Faire garder mes enfants      Trouver un logement étudiant      Réserver une salle          Fermer        Vivre + le Mans       Consulter la bourse aux logements       Consulter le site de la Nuit des chimères       Consulter le site de Mans'art       Consulter le site du Spot       Consulter le site de l'Arche de la nature       Consulter le site des Saulnières       Consulter le site des Quinconces-l'Espal       Consulter le site de la Cité du cirque       Consulter le site des médiathèques         Fermer          Actualités                Le tour de ville se prépare plusieurs mois en amont  Comment s’organise un tour de ville ? Le service Protocole-Relations extérieures-Evénementiel dévoile les coulisses de cette organisation.   Voir le détail  Le tour de ville se prépare plusieurs mois en amont        La Ville du Mans vous aide à choisir un sport  C’est la rentrée. L’heure des bonnes résolutions a sonné. Le guide des sports est à votre disposition pour choisir l’activité idéale.   Voir le détail  La Ville du Mans vous aide à choisir un sport        Recrutement d’agents recenseurs  La Ville du Mans recrute des agents recenseurs jusqu'au 9 novembre. Le début de leur mission est prévu en janvier prochain.   Voir le détail  Recrutement d’agents recenseurs    Consulter toutes les actualités          Précédent       Suivant        Le Mans, c'est...       Un patrimoine vivant  Consulter la page : Les monuments       Une nature préservée  Consulter la page : Les parcs publics            Le Mans +  D'événements     Précédent     Suivant            du dim. 01/07\n",
      "\t\t\t\t\t\t\t\tau dim. 23/09  UN ÉTÉ AU MANS  Visites et balades - Le guide été déclinant événements, animations, spectacles, expos et activités sportives, proposés du 1er juillet à fin…  Voir l'événement           du mar. 03/07\n",
      "\t\t\t\t\t\t\t\tau dim. 02/09  LA NUIT DES CHIMERES  Fêtes et animations - Chaque été et depuis une dizaine d’années, le spectacle La Nuit des Chimères émerveille les enfants autant que les…  Voir l'événement           du mar. 03/07\n",
      "\t\t\t\t\t\t\t\tau ven. 31/08  LES SOIRS D'ETE  Fêtes et animations - L’été sera jalonné de multiples rendez-vous culturels avec les Soirs d’été, festival pluridisciplinaire en plein air et…  Voir l'événement           mar. 18/09  TOUR VIBRATION  Concerts - Au Mans, rendez-vous au parking du centre culturel des Quinconces, le mardi 18 septembre 2018, dès 20h...\n",
      "\n",
      "Avec :…  Voir l'événement           jeu. 20/09  Conseil municipal du Mans  Conférences et réunions publiques - Réunion du conseil municipal du Mans en séance publique. L'ordre du jour est disponible en ligne trois jours à l'avance.  Voir l'événement     Consulter tout l'agenda Vos rendez-vous sportifs, culturels et  plus encore          Le Mans +  proche      Sud-Est Bruyères Christ-Sauveur Circuit Cité des Pins Étangs-chauds Glonnières Marcel-Paul Maroc Michel-Ange Oasis Pavoine Ronceray Sources Vert-galant ZC Sud Sud-Ouest Batignolles Jaurès-Crétois Miroir Novaxis Pontlieue Sables-d'Or ZI Sud 1 ZI Sud 2 Est Épau Funay Gué-Bernisson Jaurès-Bertinière Newton Petit-Louvre Pontlieue Sablonnières Sablons Ouest Ardriers Carnot Olivier-Heuzé Pâtis-Saint-Lazare Riffaudières Saint-Georges Saint-Pavin Cœur-de-ville Cité Plantagenêt Courboulay Gare Jacobins-République Leclerc Mission Monthéard Mutuelles Nationale Tessé Nord-Est Banjan-Croix-de-Pierre Bas-Gazonfier Bellevue Clairefontaine Fontenelles Hauts-de-Gazonfier Jardin des Plantes La Butte Maillets-Isaac Sainte-Croix Meslier Vallée Saint-Blaise Villaret Yzeuville Nord-Ouest Boussinière Cadran Chasse-royale Épine Gallière Hôpital Pré Université ZA Nord Contact            Trouver une association      Le Mans +  d'informations       Mairie du Mans     Appeler  02 43 47 47 47    Écrire  CS 40010 72039 Le Mans Cedex 9    Venir  Place Saint-Pierre, au Mans du lundi au vendredi, de 8 h 30 à 12 h et de 13 h à 17 h le samedi, de 8 h 30 à 11 h 45 (déclaration de naissance, de reconnaissance et de décès uniquement)      Écrire    Consulter toutes nos coordonnées          Foire aux questions  Trouvez votre réponse aux questions les + fréquentes         Plan du site    Mentions légales    RSS   © Ville du Mans 2018           Allô proximité  Appeller le numéro de téléphone 02 43 47 45 45  Pour demander une intervention technique       Allô Mairie  Appeller le numéro de téléphone 02 43 47 47 47  Pour joindre le standard                \n",
      "\n",
      "http://www.lemans.fr/#content \n",
      "\n",
      "   Aller au contenu  Aller à la navigation              Les + demandés     Rechercher       Vivre + le Mans  Le site de la Ville du Mans     Mon profil Je suis…    J'ai besoin de…       Vivre + le Mans     La personne    L'état civil    Les papiers    Les formalités    Les cimetières    La solidarité    L'aide à la personne    L'Ehpad public    Les Ehpa      L'enfance et la jeunesse    Les crèches    Le relais assistantes maternelles    Les écoles    La cantine    Les accueils périscolaires    Les centres de loisirs    Le centre information jeunesse      La maison    Le logement    Le logement pour les jeunes    Les travaux    Les nouveaux quartiers    Le cadastre    L'eau    L'assainissement    Les déchets      En ville    Le centre de santé    Les transports en commun    Le stationnement    Le vélo    Les aires piétonnes    Les marchés    Les objets trouvés    Les interventions    Les animaux      Les professionnels    L'accessibilité    L'installation d'enseignes        Les élus    Le maire    Les adjoints    Les conseillers municipaux    Le calendrier des conseils    Les délibérations    Les élections      La concertation    Les visites de quartier    Les conseils des quartiers    Les conseils citoyens    Le conseil des sages    Les enquêtes publiques    Le Plu communautaire    Le budget participatif    L'aménagement Voltaire-Cordelet      Les engagements    Les fonds européens    Les aménagements urbains    Le développement durable    La politique locale de l'habitat    Le plan climat    Le programme Life +    La réduction des déchets    Les repas    Le bénévolat      Le vivre ensemble    La tranquillité publique    Le contrat de ville    Le contrat local de santé    Le handicap    L'égalité    Le Mans solidaire    Le projet éducatif local    Le renouvellement urbain    Le plan local d'urbanisme      La collectivité    Les finances    Les marchés publics    Les subventions    Les recrutements    Les ventes immobilières    L'open data        Bienvenue    Les nouveaux habitants    Le CV du Mans    L'histoire du Mans    L'année culturelle    L'année sportive    Les ambassadeurs    Le port    Les jumelages      Des idées de visite    Les musées    Les monuments    La maison du patrimoine    La Nuit des chimères    Les lieux d'exposition    Les parcs publics    Le Boulevard nature    L'Arche de la nature      Les loisirs    Les médiathèques    Les archives du Mans    Les vacances des 3-15 ans    Les seniors    Le jardinage en ville    Les salles de spectacle    Les animations de quartier    Les Saulnières      Les activités    Le conservatoire    Les activités jeunesse    Le Spot    Les écoles municipales de sport    Les piscines    L'entretien physique adultes    Les associations      La proximité    Les initiatives jeunesse    Le développement culturel    Les équipements sportifs    Les salles municipales    Les maisons de quartier    La maison pour tous    Le centre Gué-Bernisson                Retour       Le Mans   plus  de démarches        Le Mans    plus  Facile       La personne    L'état civil    Les papiers    Les formalités    Les cimetières    La solidarité    L'aide à la personne    L'Ehpad public    Les Ehpa      L'enfance et la jeunesse    Les crèches    Le relais assistantes maternelles    Les écoles    La cantine    Les accueils périscolaires    Les centres de loisirs    Le centre information jeunesse      La maison    Le logement    Le logement pour les jeunes    Les travaux    Les nouveaux quartiers    Le cadastre    L'eau    L'assainissement    Les déchets      En ville    Le centre de santé    Les transports en commun    Le stationnement    Le vélo    Les aires piétonnes    Les marchés    Les objets trouvés    Les interventions    Les animaux      Les professionnels    L'accessibilité    L'installation d'enseignes         Le Mans    plus  Citoyen       Les élus    Le maire    Les adjoints    Les conseillers municipaux    Le calendrier des conseils    Les délibérations    Les élections      La concertation    Les visites de quartier    Les conseils des quartiers    Les conseils citoyens    Le conseil des sages    Les enquêtes publiques    Le Plu communautaire    Le budget participatif    L'aménagement Voltaire-Cordelet      Les engagements    Les fonds européens    Les aménagements urbains    Le développement durable    La politique locale de l'habitat    Le plan climat    Le programme Life +    La réduction des déchets    Les repas    Le bénévolat      Le vivre ensemble    La tranquillité publique    Le contrat de ville    Le contrat local de santé    Le handicap    L'égalité    Le Mans solidaire    Le projet éducatif local    Le renouvellement urbain    Le plan local d'urbanisme      La collectivité    Les finances    Les marchés publics    Les subventions    Les recrutements    Les ventes immobilières    L'open data         Le Mans    plus  Dynamique       Bienvenue    Les nouveaux habitants    Le CV du Mans    L'histoire du Mans    L'année culturelle    L'année sportive    Les ambassadeurs    Le port    Les jumelages      Des idées de visite    Les musées    Les monuments    La maison du patrimoine    La Nuit des chimères    Les lieux d'exposition    Les parcs publics    Le Boulevard nature    L'Arche de la nature      Les loisirs    Les médiathèques    Les archives du Mans    Les vacances des 3-15 ans    Les seniors    Le jardinage en ville    Les salles de spectacle    Les animations de quartier    Les Saulnières      Les activités    Le conservatoire    Les activités jeunesse    Le Spot    Les écoles municipales de sport    Les piscines    L'entretien physique adultes    Les associations      La proximité    Les initiatives jeunesse    Le développement culturel    Les équipements sportifs    Les salles municipales    Les maisons de quartier    La maison pour tous    Le centre Gué-Bernisson           Les    plus Demandés                         Le Mans    plus de démarches    Le Mans    plus  de démarches         Formalités et action sociale     Formalités et action sociale       École et enfance     École et enfance       Logement     Logement       Voirie et urbanisme     Voirie et urbanisme       Activités et citoyenneté     Activités et citoyenneté       Pros et associations     Pros et associations       Accéder à mes démarches en ligne     Accéder à mes démarches en ligne            Formalités et action sociale         Déclarer une naissance    Demander un acte de naissance    Reconnaître mon enfant    Demander un livret de famille    Préparer un mariage civil    Préparer un parrainage civil    Déclarer un décès    Prendre une concession funéraire    Solliciter la dispersion de cendres    Demander une carte d'identité    Renouveler une carte d'identité    Demander un passeport    Renouveler un passeport    Enregistrer un Pacs    Effectuer une légalisation de signature    Faire établir une attestation d'accueil    Me faire recenser    M'inscrire sur la liste électorale    Déclarer un chien dangereux    M'inscrire au service Téléphon'âge    Recourir aux soins infirmiers à domicile           Fermer la liste des démarches pour la catégorie \"Formalités et action sociale\"          École et enfance         Inscrire mon enfant en crèche    Renouveler ma demande pour la crèche    Inscrire mon enfant à l'école    Inscrire mon enfant à la cantine scolaire    Inscrire mon enfant à l'accueil périscolaire    Inscrire mon enfant au centre de loisirs    Solliciter le dispositif de réussite éducative           Fermer la liste des démarches pour la catégorie \"École et enfance\"          Logement         Effectuer une demande de logement social    Demander un logement pour personne âgée dépendante    Demander un hébergement pour personne âgée    Demander un hébergement temporaire personne âgée    Déclarer ma nouvelle adresse    Trouver un accueil d'urgence           Fermer la liste des démarches pour la catégorie \"Logement\"          Voirie et urbanisme         Demander un permis de construire    Effectuer une déclaration préalable    Demander un certificat d'urbanisme    Demander un permis de démolir    Demander un permis d'aménager    Demander une autorisation de travaux accessibilité    Consulter le plan local d'urbanisme    Demander un renseignement cadastral    Demander un accès aux secteurs piétons           Fermer la liste des démarches pour la catégorie \"Voirie et urbanisme\"          Activités et citoyenneté         Être candidat à mon conseil des quartiers    Organiser une manifestation sportive    Organiser une manifestation culturelle    Demander une autorisation de fleurir le trottoir    Me préinscrire à un séjour seniors    Réserver une salle    M'inscrire aux écoles municipales de sport           Fermer la liste des démarches pour la catégorie \"Activités et citoyenneté\"          Pros et associations         Organiser une manifestation sportive    Demander une subvention pour mon association    Confirmer ma réservation de salle à la MPT    Réserver une salle    M'inscrire à la foire aux oignons (pro)    Demander une autorisation de travaux accessibilité    Vendre sur les marchés (pro)    Réserver un emplacement à la braderie (pro)    Demander à ouvrir un débit de boissons temporaire    Installer une enseigne           Fermer la liste des démarches pour la catégorie \"Pros et associations\"          Accéder à mes démarches en ligne         Réserver une place à la cantine    Réserver une place au centre de loisirs    Régler ma facture de cantine    Régler ma facture d'eau    Prendre rendez-vous pour un passeport    Prendre rendez-vous pour une carte d'identité    Répondre au recensement de la population    Déclarer mes taxes de séjour (pro)           Fermer la liste des démarches pour la catégorie \"Accéder à mes démarches en ligne\"             Fermer le menu secondaire     Le Mans métropole    Nos autres sites                       Accessibilité    ?    Contraste   plus    moins              Les    plus demandés       Vivre + le Mans   Les    plus demandés       L'annuaire des associations       L'agenda des sorties       Les objets trouvés       Les demandes d'intervention       Les jours de collecte       Le menu des cantines       Le journal municipal       Les postes à pourvoir         Fermer le menu \"Les + demandés\"         Vivre + le Mans      Mon profil   Je suis…    J'ai besoin de…         Jeune       Parent       Senior       Porteur de handicap       Futur habitant       Nouvel arrivant       Chef d'entreprise       Responsable associatif       Enseignant       Touriste        Déclarer une naissance      Déclarer un décès      Me faire recenser      Faire garder mes enfants      Trouver un logement étudiant      Réserver une salle          Fermer        Vivre + le Mans       Consulter la bourse aux logements       Consulter le site de la Nuit des chimères       Consulter le site de Mans'art       Consulter le site du Spot       Consulter le site de l'Arche de la nature       Consulter le site des Saulnières       Consulter le site des Quinconces-l'Espal       Consulter le site de la Cité du cirque       Consulter le site des médiathèques         Fermer          Actualités                Le tour de ville se prépare plusieurs mois en amont  Comment s’organise un tour de ville ? Le service Protocole-Relations extérieures-Evénementiel dévoile les coulisses de cette organisation.   Voir le détail  Le tour de ville se prépare plusieurs mois en amont        La Ville du Mans vous aide à choisir un sport  C’est la rentrée. L’heure des bonnes résolutions a sonné. Le guide des sports est à votre disposition pour choisir l’activité idéale.   Voir le détail  La Ville du Mans vous aide à choisir un sport        Recrutement d’agents recenseurs  La Ville du Mans recrute des agents recenseurs jusqu'au 9 novembre. Le début de leur mission est prévu en janvier prochain.   Voir le détail  Recrutement d’agents recenseurs    Consulter toutes les actualités          Précédent       Suivant        Le Mans, c'est...       Un patrimoine vivant  Consulter la page : Les monuments       Une nature préservée  Consulter la page : Les parcs publics            Le Mans +  D'événements     Précédent     Suivant            du dim. 01/07\n",
      "\t\t\t\t\t\t\t\tau dim. 23/09  UN ÉTÉ AU MANS  Visites et balades - Le guide été déclinant événements, animations, spectacles, expos et activités sportives, proposés du 1er juillet à fin…  Voir l'événement           du mar. 03/07\n",
      "\t\t\t\t\t\t\t\tau dim. 02/09  LA NUIT DES CHIMERES  Fêtes et animations - Chaque été et depuis une dizaine d’années, le spectacle La Nuit des Chimères émerveille les enfants autant que les…  Voir l'événement           du mar. 03/07\n",
      "\t\t\t\t\t\t\t\tau ven. 31/08  LES SOIRS D'ETE  Fêtes et animations - L’été sera jalonné de multiples rendez-vous culturels avec les Soirs d’été, festival pluridisciplinaire en plein air et…  Voir l'événement           mar. 18/09  TOUR VIBRATION  Concerts - Au Mans, rendez-vous au parking du centre culturel des Quinconces, le mardi 18 septembre 2018, dès 20h...\n",
      "\n",
      "Avec :…  Voir l'événement           jeu. 20/09  Conseil municipal du Mans  Conférences et réunions publiques - Réunion du conseil municipal du Mans en séance publique. L'ordre du jour est disponible en ligne trois jours à l'avance.  Voir l'événement     Consulter tout l'agenda Vos rendez-vous sportifs, culturels et  plus encore          Le Mans +  proche      Sud-Est Bruyères Christ-Sauveur Circuit Cité des Pins Étangs-chauds Glonnières Marcel-Paul Maroc Michel-Ange Oasis Pavoine Ronceray Sources Vert-galant ZC Sud Sud-Ouest Batignolles Jaurès-Crétois Miroir Novaxis Pontlieue Sables-d'Or ZI Sud 1 ZI Sud 2 Est Épau Funay Gué-Bernisson Jaurès-Bertinière Newton Petit-Louvre Pontlieue Sablonnières Sablons Ouest Ardriers Carnot Olivier-Heuzé Pâtis-Saint-Lazare Riffaudières Saint-Georges Saint-Pavin Cœur-de-ville Cité Plantagenêt Courboulay Gare Jacobins-République Leclerc Mission Monthéard Mutuelles Nationale Tessé Nord-Est Banjan-Croix-de-Pierre Bas-Gazonfier Bellevue Clairefontaine Fontenelles Hauts-de-Gazonfier Jardin des Plantes La Butte Maillets-Isaac Sainte-Croix Meslier Vallée Saint-Blaise Villaret Yzeuville Nord-Ouest Boussinière Cadran Chasse-royale Épine Gallière Hôpital Pré Université ZA Nord Contact            Trouver une association      Le Mans +  d'informations       Mairie du Mans     Appeler  02 43 47 47 47    Écrire  CS 40010 72039 Le Mans Cedex 9    Venir  Place Saint-Pierre, au Mans du lundi au vendredi, de 8 h 30 à 12 h et de 13 h à 17 h le samedi, de 8 h 30 à 11 h 45 (déclaration de naissance, de reconnaissance et de décès uniquement)      Écrire    Consulter toutes nos coordonnées          Foire aux questions  Trouvez votre réponse aux questions les + fréquentes         Plan du site    Mentions légales    RSS   © Ville du Mans 2018           Allô proximité  Appeller le numéro de téléphone 02 43 47 45 45  Pour demander une intervention technique       Allô Mairie  Appeller le numéro de téléphone 02 43 47 47 47  Pour joindre le standard                \n",
      "\n"
     ]
    }
   ],
   "source": [
    "walk_on_pairs(links,0,2)"
   ]
  },
  {
   "cell_type": "markdown",
   "metadata": {},
   "source": [
    "# Cleaning bad values"
   ]
  },
  {
   "cell_type": "markdown",
   "metadata": {},
   "source": [
    "### DEAL with outdated browser message"
   ]
  },
  {
   "cell_type": "code",
   "execution_count": null,
   "metadata": {},
   "outputs": [],
   "source": [
    "outdated_browser_msg = 'outdated browser'"
   ]
  },
  {
   "cell_type": "code",
   "execution_count": null,
   "metadata": {},
   "outputs": [],
   "source": [
    "outdated_browser = [key for key, value in links.items() if outdated_browser_msg in value]\n",
    "print(len(outdated_browser))"
   ]
  },
  {
   "cell_type": "code",
   "execution_count": null,
   "metadata": {},
   "outputs": [],
   "source": [
    "for page in outdated_browser:\n",
    "    links[page] = False"
   ]
  },
  {
   "cell_type": "code",
   "execution_count": null,
   "metadata": {},
   "outputs": [],
   "source": [
    "save_pickle(get_filename(root), links=links, passed_links=passed_links)"
   ]
  },
  {
   "cell_type": "markdown",
   "metadata": {},
   "source": [
    "### DEAL with pdf content pages"
   ]
  },
  {
   "cell_type": "code",
   "execution_count": null,
   "metadata": {},
   "outputs": [],
   "source": [
    "pdf_pages = [key for key, value in links.items() if (isinstance(value, str) and '%PDF-1' in value) or (key[-4:] == '.pdf') or (key[-8:] == 'type=125')]\n",
    "print(len(pdf_pages))"
   ]
  },
  {
   "cell_type": "code",
   "execution_count": null,
   "metadata": {},
   "outputs": [],
   "source": [
    "for page in pdf_pages:\n",
    "    passed_links[page]=False\n",
    "    del links[page]"
   ]
  },
  {
   "cell_type": "code",
   "execution_count": null,
   "metadata": {},
   "outputs": [],
   "source": [
    "pdf_pages = [key for key, value in links.items() if (isinstance(value, str) and '%PDF-1' in value) or (key[-4:] == '.pdf') or (key[-8:] == 'type=125')]\n",
    "print(len(pdf_pages))"
   ]
  },
  {
   "cell_type": "code",
   "execution_count": null,
   "metadata": {},
   "outputs": [],
   "source": [
    "save_pickle(get_filename(root), links=links, passed_links=passed_links)"
   ]
  },
  {
   "cell_type": "markdown",
   "metadata": {},
   "source": [
    "### DEAL with .zip .pdf .jpg .png .jpeg pages"
   ]
  },
  {
   "cell_type": "code",
   "execution_count": null,
   "metadata": {},
   "outputs": [],
   "source": [
    "pages = [key for key, value in links.items() if (key[-4:] == '.zip') or (key[-4:] == '.pdf')  \n",
    "                                             or (key[-4:] == '.jpg') or (key[-4:] == '.png') \n",
    "                                             or (key[-5:] == '.jpeg') or (key[-4:] == '.mp3')\n",
    "                                             or (key[-4:] == '.dot') or (key[-4:] == '.doc')  \n",
    "                                             or (key[-4:] == '.JPG')]\n",
    "print(len(pages))"
   ]
  },
  {
   "cell_type": "code",
   "execution_count": null,
   "metadata": {},
   "outputs": [],
   "source": [
    "for page in pages:\n",
    "    passed_links[page]=False\n",
    "    del links[page]"
   ]
  },
  {
   "cell_type": "code",
   "execution_count": null,
   "metadata": {},
   "outputs": [],
   "source": [
    "pages = [key for key, value in links.items() if (key[-4:] == '.zip') or (key[-4:] == '.pdf')  \n",
    "                                             or (key[-4:] == '.jpg') or (key[-4:] == '.png') \n",
    "                                             or (key[-5:] == '.jpeg') or (key[-4:] == '.mp3')\n",
    "                                             or (key[-4:] == '.dot') or (key[-4:] == '.doc')  \n",
    "                                             or (key[-4:] == '.JPG')]\n",
    "print(len(pages))"
   ]
  },
  {
   "cell_type": "code",
   "execution_count": null,
   "metadata": {},
   "outputs": [],
   "source": [
    "save_pickle(get_filename(root), links=links, passed_links=passed_links)"
   ]
  },
  {
   "cell_type": "markdown",
   "metadata": {},
   "source": [
    "### DEAL with 'le detail de l'actualite' pages"
   ]
  },
  {
   "cell_type": "code",
   "execution_count": null,
   "metadata": {},
   "outputs": [],
   "source": [
    "pages = [key for key, value in links.items() if 'details-de-lactualite' in key]\n",
    "print(len(pages))"
   ]
  },
  {
   "cell_type": "code",
   "execution_count": null,
   "metadata": {},
   "outputs": [],
   "source": [
    "for page in pages:\n",
    "    passed_links[page]=False\n",
    "    del links[page]"
   ]
  },
  {
   "cell_type": "code",
   "execution_count": null,
   "metadata": {},
   "outputs": [],
   "source": [
    "pages = [key for key, value in links.items() if  'details-de-lactualite' in key]\n",
    "print(len(pages))"
   ]
  },
  {
   "cell_type": "code",
   "execution_count": null,
   "metadata": {},
   "outputs": [],
   "source": [
    "save_pickle(get_filename(root), links=links, passed_links=passed_links)"
   ]
  },
  {
   "cell_type": "markdown",
   "metadata": {},
   "source": [
    "### DEAL with undecodable pages"
   ]
  },
  {
   "cell_type": "code",
   "execution_count": null,
   "metadata": {},
   "outputs": [],
   "source": [
    "links, passed_links = load_pickle(get_filename(root))\n",
    "links_ = links.copy()\n",
    "\n",
    "for key, value in links.items():\n",
    "    try:\n",
    "        decode_string(value)\n",
    "    except:\n",
    "        print(key)\n",
    "        passed_links[key]=False\n",
    "        del links_[key]\n",
    "\n",
    "        \n",
    "save_pickle(get_filename(root), links=links_, passed_links=passed_links)"
   ]
  }
 ],
 "metadata": {
  "kernelspec": {
   "display_name": "Python 3",
   "language": "python",
   "name": "python3"
  },
  "language_info": {
   "codemirror_mode": {
    "name": "ipython",
    "version": 3
   },
   "file_extension": ".py",
   "mimetype": "text/x-python",
   "name": "python",
   "nbconvert_exporter": "python",
   "pygments_lexer": "ipython3",
   "version": "3.7.0"
  }
 },
 "nbformat": 4,
 "nbformat_minor": 2
}
