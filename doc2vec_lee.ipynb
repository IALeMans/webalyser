{
  "nbformat": 4,
  "nbformat_minor": 0,
  "metadata": {
    "colab": {
      "name": "doc2vec-lee.ipynb",
      "version": "0.3.2",
      "provenance": [],
      "include_colab_link": true
    },
    "kernelspec": {
      "display_name": "Python 3",
      "language": "python",
      "name": "python3"
    }
  },
  "cells": [
    {
      "cell_type": "markdown",
      "metadata": {
        "id": "view-in-github",
        "colab_type": "text"
      },
      "source": [
        "[View in Colaboratory](https://colab.research.google.com/github/IALeMans/webalyser/blob/master/doc2vec_lee.ipynb)"
      ]
    },
    {
      "metadata": {
        "id": "6WfsDOc4mMvi",
        "colab_type": "text"
      },
      "cell_type": "markdown",
      "source": [
        "# Doc2Vec Tutorial on the Lee Dataset"
      ]
    },
    {
      "metadata": {
        "id": "SpBcH95vmMvo",
        "colab_type": "code",
        "colab": {}
      },
      "cell_type": "code",
      "source": [
        "import gensim\n",
        "import os\n",
        "import collections\n",
        "import smart_open\n",
        "import random"
      ],
      "execution_count": 0,
      "outputs": []
    },
    {
      "metadata": {
        "id": "y60CrRSomMv4",
        "colab_type": "text"
      },
      "cell_type": "markdown",
      "source": [
        "## What is it?\n",
        "\n",
        "Doc2Vec is an NLP tool for representing documents as a vector and is a generalizing of the Word2Vec method. This tutorial will serve as an introduction to Doc2Vec and present ways to train and assess a Doc2Vec model."
      ]
    },
    {
      "metadata": {
        "id": "zWR4UsYImMwA",
        "colab_type": "text"
      },
      "cell_type": "markdown",
      "source": [
        "## Getting Started"
      ]
    },
    {
      "metadata": {
        "id": "mh3OGsZcmMwE",
        "colab_type": "text"
      },
      "cell_type": "markdown",
      "source": [
        "To get going, we'll need to have a set of documents to train our doc2vec model. In theory, a document could be anything from a short 140 character tweet, a single paragraph (i.e., journal article abstract), a news article, or a book. In NLP parlance a collection or set of documents is often referred to as a <b>corpus</b>. \n",
        "\n",
        "For this tutorial, we'll be training our model using the [Lee Background Corpus](https://hekyll.services.adelaide.edu.au/dspace/bitstream/2440/28910/1/hdl_28910.pdf) included in gensim. This corpus contains 314 documents selected from the Australian Broadcasting\n",
        "Corporation’s news mail service, which provides text e-mails of headline stories and covers a number of broad topics.\n",
        "\n",
        "And we'll test our model by eye using the much shorter [Lee Corpus](https://hekyll.services.adelaide.edu.au/dspace/bitstream/2440/28910/1/hdl_28910.pdf) which contains 50 documents."
      ]
    },
    {
      "metadata": {
        "id": "nzTsJnOwmMwG",
        "colab_type": "code",
        "colab": {}
      },
      "cell_type": "code",
      "source": [
        "# Set file names for train and test data\n",
        "test_data_dir = '{}'.format(os.sep).join([gensim.__path__[0], 'test', 'test_data'])\n",
        "lee_train_file = test_data_dir + os.sep + 'lee_background.cor'\n",
        "lee_test_file = test_data_dir + os.sep + 'lee.cor'"
      ],
      "execution_count": 0,
      "outputs": []
    },
    {
      "metadata": {
        "id": "f5C9GXtrmMwS",
        "colab_type": "text"
      },
      "cell_type": "markdown",
      "source": [
        "## Define a Function to Read and Preprocess Text"
      ]
    },
    {
      "metadata": {
        "id": "LIuXv8ULmMwW",
        "colab_type": "text"
      },
      "cell_type": "markdown",
      "source": [
        "Below, we define a function to open the train/test file (with latin encoding), read the file line-by-line, pre-process each line using a simple gensim pre-processing tool (i.e., tokenize text into individual words, remove punctuation, set to lowercase, etc), and return a list of words. Note that, for a given file (aka corpus), each continuous line constitutes a single document and the length of each line (i.e., document) can vary. Also, to train the model, we'll need to associate a tag/number with each document of the training corpus. In our case, the tag is simply the zero-based line number."
      ]
    },
    {
      "metadata": {
        "id": "mSi35fPamMwZ",
        "colab_type": "code",
        "colab": {}
      },
      "cell_type": "code",
      "source": [
        "def read_corpus(fname, tokens_only=False):\n",
        "    with smart_open.smart_open(fname, encoding=\"iso-8859-1\") as f:\n",
        "        for i, line in enumerate(f):\n",
        "            if tokens_only:\n",
        "                yield gensim.utils.simple_preprocess(line)\n",
        "            else:\n",
        "                # For training data, add tags\n",
        "                yield gensim.models.doc2vec.TaggedDocument(gensim.utils.simple_preprocess(line), [i])"
      ],
      "execution_count": 0,
      "outputs": []
    },
    {
      "metadata": {
        "id": "QDVwFNd-mMwj",
        "colab_type": "code",
        "colab": {}
      },
      "cell_type": "code",
      "source": [
        "train_corpus = list(read_corpus(lee_train_file))\n",
        "test_corpus = list(read_corpus(lee_test_file, tokens_only=True))"
      ],
      "execution_count": 0,
      "outputs": []
    },
    {
      "metadata": {
        "id": "ewsFHE5TmMwq",
        "colab_type": "text"
      },
      "cell_type": "markdown",
      "source": [
        "Let's take a look at the training corpus"
      ]
    },
    {
      "metadata": {
        "id": "2j2ynpCKmMws",
        "colab_type": "code",
        "colab": {
          "base_uri": "https://localhost:8080/",
          "height": 72
        },
        "outputId": "8099aa63-c229-43e5-a335-84d3ff0e32f9"
      },
      "cell_type": "code",
      "source": [
        "train_corpus[:2]"
      ],
      "execution_count": 5,
      "outputs": [
        {
          "output_type": "execute_result",
          "data": {
            "text/plain": [
              "[TaggedDocument(words=['hundreds', 'of', 'people', 'have', 'been', 'forced', 'to', 'vacate', 'their', 'homes', 'in', 'the', 'southern', 'highlands', 'of', 'new', 'south', 'wales', 'as', 'strong', 'winds', 'today', 'pushed', 'huge', 'bushfire', 'towards', 'the', 'town', 'of', 'hill', 'top', 'new', 'blaze', 'near', 'goulburn', 'south', 'west', 'of', 'sydney', 'has', 'forced', 'the', 'closure', 'of', 'the', 'hume', 'highway', 'at', 'about', 'pm', 'aedt', 'marked', 'deterioration', 'in', 'the', 'weather', 'as', 'storm', 'cell', 'moved', 'east', 'across', 'the', 'blue', 'mountains', 'forced', 'authorities', 'to', 'make', 'decision', 'to', 'evacuate', 'people', 'from', 'homes', 'in', 'outlying', 'streets', 'at', 'hill', 'top', 'in', 'the', 'new', 'south', 'wales', 'southern', 'highlands', 'an', 'estimated', 'residents', 'have', 'left', 'their', 'homes', 'for', 'nearby', 'mittagong', 'the', 'new', 'south', 'wales', 'rural', 'fire', 'service', 'says', 'the', 'weather', 'conditions', 'which', 'caused', 'the', 'fire', 'to', 'burn', 'in', 'finger', 'formation', 'have', 'now', 'eased', 'and', 'about', 'fire', 'units', 'in', 'and', 'around', 'hill', 'top', 'are', 'optimistic', 'of', 'defending', 'all', 'properties', 'as', 'more', 'than', 'blazes', 'burn', 'on', 'new', 'year', 'eve', 'in', 'new', 'south', 'wales', 'fire', 'crews', 'have', 'been', 'called', 'to', 'new', 'fire', 'at', 'gunning', 'south', 'of', 'goulburn', 'while', 'few', 'details', 'are', 'available', 'at', 'this', 'stage', 'fire', 'authorities', 'says', 'it', 'has', 'closed', 'the', 'hume', 'highway', 'in', 'both', 'directions', 'meanwhile', 'new', 'fire', 'in', 'sydney', 'west', 'is', 'no', 'longer', 'threatening', 'properties', 'in', 'the', 'cranebrook', 'area', 'rain', 'has', 'fallen', 'in', 'some', 'parts', 'of', 'the', 'illawarra', 'sydney', 'the', 'hunter', 'valley', 'and', 'the', 'north', 'coast', 'but', 'the', 'bureau', 'of', 'meteorology', 'claire', 'richards', 'says', 'the', 'rain', 'has', 'done', 'little', 'to', 'ease', 'any', 'of', 'the', 'hundred', 'fires', 'still', 'burning', 'across', 'the', 'state', 'the', 'falls', 'have', 'been', 'quite', 'isolated', 'in', 'those', 'areas', 'and', 'generally', 'the', 'falls', 'have', 'been', 'less', 'than', 'about', 'five', 'millimetres', 'she', 'said', 'in', 'some', 'places', 'really', 'not', 'significant', 'at', 'all', 'less', 'than', 'millimetre', 'so', 'there', 'hasn', 'been', 'much', 'relief', 'as', 'far', 'as', 'rain', 'is', 'concerned', 'in', 'fact', 'they', 've', 'probably', 'hampered', 'the', 'efforts', 'of', 'the', 'firefighters', 'more', 'because', 'of', 'the', 'wind', 'gusts', 'that', 'are', 'associated', 'with', 'those', 'thunderstorms'], tags=[0]),\n",
              " TaggedDocument(words=['indian', 'security', 'forces', 'have', 'shot', 'dead', 'eight', 'suspected', 'militants', 'in', 'night', 'long', 'encounter', 'in', 'southern', 'kashmir', 'the', 'shootout', 'took', 'place', 'at', 'dora', 'village', 'some', 'kilometers', 'south', 'of', 'the', 'kashmiri', 'summer', 'capital', 'srinagar', 'the', 'deaths', 'came', 'as', 'pakistani', 'police', 'arrested', 'more', 'than', 'two', 'dozen', 'militants', 'from', 'extremist', 'groups', 'accused', 'of', 'staging', 'an', 'attack', 'on', 'india', 'parliament', 'india', 'has', 'accused', 'pakistan', 'based', 'lashkar', 'taiba', 'and', 'jaish', 'mohammad', 'of', 'carrying', 'out', 'the', 'attack', 'on', 'december', 'at', 'the', 'behest', 'of', 'pakistani', 'military', 'intelligence', 'military', 'tensions', 'have', 'soared', 'since', 'the', 'raid', 'with', 'both', 'sides', 'massing', 'troops', 'along', 'their', 'border', 'and', 'trading', 'tit', 'for', 'tat', 'diplomatic', 'sanctions', 'yesterday', 'pakistan', 'announced', 'it', 'had', 'arrested', 'lashkar', 'taiba', 'chief', 'hafiz', 'mohammed', 'saeed', 'police', 'in', 'karachi', 'say', 'it', 'is', 'likely', 'more', 'raids', 'will', 'be', 'launched', 'against', 'the', 'two', 'groups', 'as', 'well', 'as', 'other', 'militant', 'organisations', 'accused', 'of', 'targetting', 'india', 'military', 'tensions', 'between', 'india', 'and', 'pakistan', 'have', 'escalated', 'to', 'level', 'not', 'seen', 'since', 'their', 'war'], tags=[1])]"
            ]
          },
          "metadata": {
            "tags": []
          },
          "execution_count": 5
        }
      ]
    },
    {
      "metadata": {
        "id": "ZE8q159JmMxB",
        "colab_type": "text"
      },
      "cell_type": "markdown",
      "source": [
        "And the testing corpus looks like this:"
      ]
    },
    {
      "metadata": {
        "id": "DhmN4mLjmMxD",
        "colab_type": "code",
        "colab": {
          "base_uri": "https://localhost:8080/",
          "height": 54
        },
        "outputId": "6a2a4d04-7275-48b0-e1df-3a3b89466ded"
      },
      "cell_type": "code",
      "source": [
        "print(test_corpus[:2])"
      ],
      "execution_count": 6,
      "outputs": [
        {
          "output_type": "stream",
          "text": [
            "[['the', 'national', 'executive', 'of', 'the', 'strife', 'torn', 'democrats', 'last', 'night', 'appointed', 'little', 'known', 'west', 'australian', 'senator', 'brian', 'greig', 'as', 'interim', 'leader', 'shock', 'move', 'likely', 'to', 'provoke', 'further', 'conflict', 'between', 'the', 'party', 'senators', 'and', 'its', 'organisation', 'in', 'move', 'to', 'reassert', 'control', 'over', 'the', 'party', 'seven', 'senators', 'the', 'national', 'executive', 'last', 'night', 'rejected', 'aden', 'ridgeway', 'bid', 'to', 'become', 'interim', 'leader', 'in', 'favour', 'of', 'senator', 'greig', 'supporter', 'of', 'deposed', 'leader', 'natasha', 'stott', 'despoja', 'and', 'an', 'outspoken', 'gay', 'rights', 'activist'], ['cash', 'strapped', 'financial', 'services', 'group', 'amp', 'has', 'shelved', 'million', 'plan', 'to', 'buy', 'shares', 'back', 'from', 'investors', 'and', 'will', 'raise', 'million', 'in', 'fresh', 'capital', 'after', 'profits', 'crashed', 'in', 'the', 'six', 'months', 'to', 'june', 'chief', 'executive', 'paul', 'batchelor', 'said', 'the', 'result', 'was', 'solid', 'in', 'what', 'he', 'described', 'as', 'the', 'worst', 'conditions', 'for', 'stock', 'markets', 'in', 'years', 'amp', 'half', 'year', 'profit', 'sank', 'per', 'cent', 'to', 'million', 'or', 'share', 'as', 'australia', 'largest', 'investor', 'and', 'fund', 'manager', 'failed', 'to', 'hit', 'projected', 'per', 'cent', 'earnings', 'growth', 'targets', 'and', 'was', 'battered', 'by', 'falling', 'returns', 'on', 'share', 'markets']]\n"
          ],
          "name": "stdout"
        }
      ]
    },
    {
      "metadata": {
        "id": "owtr1dCkmMxU",
        "colab_type": "text"
      },
      "cell_type": "markdown",
      "source": [
        "Notice that the testing corpus is just a list of lists and does not contain any tags."
      ]
    },
    {
      "metadata": {
        "id": "P2fIiAsqmMxX",
        "colab_type": "text"
      },
      "cell_type": "markdown",
      "source": [
        "## Training the Model"
      ]
    },
    {
      "metadata": {
        "id": "ofe0xUR8mMxf",
        "colab_type": "text"
      },
      "cell_type": "markdown",
      "source": [
        "### Instantiate a Doc2Vec Object "
      ]
    },
    {
      "metadata": {
        "id": "ABnJoLyemMxj",
        "colab_type": "text"
      },
      "cell_type": "markdown",
      "source": [
        "Now, we'll instantiate a Doc2Vec model with a vector size with 50 words and iterating over the training corpus 40 times. We set the minimum word count to 2 in order to discard words with very few occurrences. (Without a variety of representative examples, retaining such infrequent words can often make a model worse!) Typical iteration counts in published 'Paragraph Vectors' results, using 10s-of-thousands to millions of docs, are 10-20. More iterations take more time and eventually reach a point of diminishing returns.\n",
        "\n",
        "However, this is a very very small dataset (300 documents) with shortish documents (a few hundred words). Adding training passes can sometimes help with such small datasets."
      ]
    },
    {
      "metadata": {
        "id": "4UoNnraymMxm",
        "colab_type": "code",
        "colab": {}
      },
      "cell_type": "code",
      "source": [
        "model = gensim.models.doc2vec.Doc2Vec(vector_size=50, min_count=2, epochs=40)"
      ],
      "execution_count": 0,
      "outputs": []
    },
    {
      "metadata": {
        "id": "jdWT2TlHmMxu",
        "colab_type": "text"
      },
      "cell_type": "markdown",
      "source": [
        "### Build a Vocabulary"
      ]
    },
    {
      "metadata": {
        "id": "SkyksNMBmMxw",
        "colab_type": "code",
        "colab": {}
      },
      "cell_type": "code",
      "source": [
        "model.build_vocab(train_corpus)"
      ],
      "execution_count": 0,
      "outputs": []
    },
    {
      "metadata": {
        "id": "VkEB6JS9mMx6",
        "colab_type": "text"
      },
      "cell_type": "markdown",
      "source": [
        "Essentially, the vocabulary is a dictionary (accessible via `model.wv.vocab`) of all of the unique words extracted from the training corpus along with the count (e.g., `model.wv.vocab['penalty'].count` for counts for the word `penalty`)."
      ]
    },
    {
      "metadata": {
        "id": "1Na7HmwamMx9",
        "colab_type": "text"
      },
      "cell_type": "markdown",
      "source": [
        "### Time to Train\n",
        "\n",
        "If the BLAS library is being used, this should take no more than 3 seconds.\n",
        "If the BLAS library is not being used, this should take no more than 2 minutes, so use BLAS if you value your time."
      ]
    },
    {
      "metadata": {
        "id": "w3G4KByomMyA",
        "colab_type": "code",
        "colab": {
          "base_uri": "https://localhost:8080/",
          "height": 52
        },
        "outputId": "05b0481f-6ff8-4005-90ab-b4c112cccda8"
      },
      "cell_type": "code",
      "source": [
        "%time model.train(train_corpus, total_examples=model.corpus_count, epochs=model.epochs)"
      ],
      "execution_count": 9,
      "outputs": [
        {
          "output_type": "stream",
          "text": [
            "CPU times: user 6.39 s, sys: 252 ms, total: 6.64 s\n",
            "Wall time: 3.67 s\n"
          ],
          "name": "stdout"
        }
      ]
    },
    {
      "metadata": {
        "id": "r_E_glEEmMyL",
        "colab_type": "text"
      },
      "cell_type": "markdown",
      "source": [
        "### Inferring a Vector"
      ]
    },
    {
      "metadata": {
        "id": "cPqSYsR9mMyO",
        "colab_type": "text"
      },
      "cell_type": "markdown",
      "source": [
        "One important thing to note is that you can now infer a vector for any piece of text without having to re-train the model by passing a list of words to the `model.infer_vector` function. This vector can then be compared with other vectors via cosine similarity."
      ]
    },
    {
      "metadata": {
        "id": "lIjvW6FumMyV",
        "colab_type": "code",
        "colab": {
          "base_uri": "https://localhost:8080/",
          "height": 208
        },
        "outputId": "61d6d9af-9b51-441f-8b8e-63924e79bac4"
      },
      "cell_type": "code",
      "source": [
        "model.infer_vector(['only', 'you', 'can', 'prevent', 'forest', 'fires'])"
      ],
      "execution_count": 10,
      "outputs": [
        {
          "output_type": "execute_result",
          "data": {
            "text/plain": [
              "array([-0.33108127, -0.07237493,  0.18727253,  0.21172279, -0.06022526,\n",
              "       -0.04571754,  0.08180561,  0.09480724,  0.02014657, -0.17127217,\n",
              "       -0.10730798, -0.24025384,  0.13259827, -0.0222166 ,  0.23650002,\n",
              "       -0.09739648,  0.09653603, -0.03522699, -0.2469336 ,  0.03595645,\n",
              "        0.04688961,  0.08237591, -0.06954174, -0.20286666, -0.13805331,\n",
              "       -0.23687233,  0.12504442, -0.16351685, -0.1129631 , -0.09328491,\n",
              "        0.00890975,  0.20620477,  0.11495681,  0.02804261, -0.11208995,\n",
              "        0.18118668, -0.03889089,  0.19813718,  0.0243145 , -0.40956587,\n",
              "       -0.08742271, -0.13241738, -0.13231991, -0.03178741,  0.04452869,\n",
              "        0.0852221 , -0.25561222, -0.22658709, -0.22362831,  0.05921596],\n",
              "      dtype=float32)"
            ]
          },
          "metadata": {
            "tags": []
          },
          "execution_count": 10
        }
      ]
    },
    {
      "metadata": {
        "id": "o4IP3zNKmMyc",
        "colab_type": "text"
      },
      "cell_type": "markdown",
      "source": [
        "Note that `infer_vector()` does *not* take a string, but rather a list of string tokens, which should have already been tokenized the same way as the `words` property of original training document objects. \n",
        "\n",
        "Also note that because the underlying training/inference algorithms are an iterative approximation problem that makes use of internal randomization, repeated inferences of the same text will return slightly different vectors."
      ]
    },
    {
      "metadata": {
        "id": "jwyFPmiXmMye",
        "colab_type": "text"
      },
      "cell_type": "markdown",
      "source": [
        "## Assessing Model"
      ]
    },
    {
      "metadata": {
        "id": "q9GcW04fmMyg",
        "colab_type": "text"
      },
      "cell_type": "markdown",
      "source": [
        "To assess our new model, we'll first infer new vectors for each document of the training corpus, compare the inferred vectors with the training corpus, and then returning the rank of the document based on self-similarity. Basically, we're pretending as if the training corpus is some new unseen data and then seeing how they compare with the trained model. The expectation is that we've likely overfit our model (i.e., all of the ranks will be less than 2) and so we should be able to find similar documents very easily. Additionally, we'll keep track of the second ranks for a comparison of less similar documents. "
      ]
    },
    {
      "metadata": {
        "id": "bT1AEbaBmMyq",
        "colab_type": "code",
        "colab": {
          "base_uri": "https://localhost:8080/",
          "height": 72
        },
        "outputId": "d7b3513d-99e4-41e0-e5ca-b7879a514ca8"
      },
      "cell_type": "code",
      "source": [
        "ranks = []\n",
        "second_ranks = []\n",
        "for doc_id in range(len(train_corpus)):\n",
        "    inferred_vector = model.infer_vector(train_corpus[doc_id].words)\n",
        "    sims = model.docvecs.most_similar([inferred_vector], topn=len(model.docvecs))\n",
        "    rank = [docid for docid, sim in sims].index(doc_id)\n",
        "    ranks.append(rank)\n",
        "    \n",
        "    second_ranks.append(sims[1])"
      ],
      "execution_count": 11,
      "outputs": [
        {
          "output_type": "stream",
          "text": [
            "/usr/local/lib/python3.6/dist-packages/gensim/matutils.py:737: FutureWarning: Conversion of the second argument of issubdtype from `int` to `np.signedinteger` is deprecated. In future, it will be treated as `np.int64 == np.dtype(int).type`.\n",
            "  if np.issubdtype(vec.dtype, np.int):\n"
          ],
          "name": "stderr"
        }
      ]
    },
    {
      "metadata": {
        "id": "3ej1VuQCmMy5",
        "colab_type": "text"
      },
      "cell_type": "markdown",
      "source": [
        "Let's count how each document ranks with respect to the training corpus "
      ]
    },
    {
      "metadata": {
        "id": "jjTWM4RHmMy8",
        "colab_type": "code",
        "colab": {
          "base_uri": "https://localhost:8080/",
          "height": 34
        },
        "outputId": "19b7aa21-da39-4152-9176-c0c192d3affd"
      },
      "cell_type": "code",
      "source": [
        "collections.Counter(ranks)  # Results vary between runs due to random seeding and very small corpus"
      ],
      "execution_count": 12,
      "outputs": [
        {
          "output_type": "execute_result",
          "data": {
            "text/plain": [
              "Counter({0: 291, 1: 9})"
            ]
          },
          "metadata": {
            "tags": []
          },
          "execution_count": 12
        }
      ]
    },
    {
      "metadata": {
        "id": "mbRMgiuhmMzV",
        "colab_type": "text"
      },
      "cell_type": "markdown",
      "source": [
        "Basically, greater than 95% of the inferred documents are found to be most similar to itself and about 5% of the time it is mistakenly most similar to another document. the checking of an inferred-vector against a training-vector is a sort of 'sanity check' as to whether the model is behaving in a usefully consistent manner, though not a real 'accuracy' value.\n",
        "\n",
        "This is great and not entirely surprising. We can take a look at an example:"
      ]
    },
    {
      "metadata": {
        "id": "QTyTTRAXmMzX",
        "colab_type": "code",
        "colab": {
          "base_uri": "https://localhost:8080/",
          "height": 245
        },
        "outputId": "9e177af3-d72d-4e8f-b243-77e6285a753f"
      },
      "cell_type": "code",
      "source": [
        "print('Document ({}): «{}»\\n'.format(doc_id, ' '.join(train_corpus[doc_id].words)))\n",
        "print(u'SIMILAR/DISSIMILAR DOCS PER MODEL %s:\\n' % model)\n",
        "for label, index in [('MOST', 0), ('SECOND-MOST', 1), ('MEDIAN', len(sims)//2), ('LEAST', len(sims) - 1)]:\n",
        "    print(u'%s %s: «%s»\\n' % (label, sims[index], ' '.join(train_corpus[sims[index][0]].words)))"
      ],
      "execution_count": 13,
      "outputs": [
        {
          "output_type": "stream",
          "text": [
            "Document (299): «australia will take on france in the doubles rubber of the davis cup tennis final today with the tie levelled at wayne arthurs and todd woodbridge are scheduled to lead australia in the doubles against cedric pioline and fabrice santoro however changes can be made to the line up up to an hour before the match and australian team captain john fitzgerald suggested he might do just that we ll make team appraisal of the whole situation go over the pros and cons and make decision french team captain guy forget says he will not make changes but does not know what to expect from australia todd is the best doubles player in the world right now so expect him to play he said would probably use wayne arthurs but don know what to expect really pat rafter salvaged australia davis cup campaign yesterday with win in the second singles match rafter overcame an arm injury to defeat french number one sebastien grosjean in three sets the australian says he is happy with his form it not very pretty tennis there isn too many consistent bounces you are playing like said bit of classic old grass court rafter said rafter levelled the score after lleyton hewitt shock five set loss to nicholas escude in the first singles rubber but rafter says he felt no added pressure after hewitt defeat knew had good team to back me up even if we were down he said knew could win on the last day know the boys can win doubles so even if we were down still feel we are good enough team to win and vice versa they are good enough team to beat us as well»\n",
            "\n",
            "SIMILAR/DISSIMILAR DOCS PER MODEL Doc2Vec(dm/m,d50,n5,w5,mc2,s0.001,t3):\n",
            "\n",
            "MOST (299, 0.9410606026649475): «australia will take on france in the doubles rubber of the davis cup tennis final today with the tie levelled at wayne arthurs and todd woodbridge are scheduled to lead australia in the doubles against cedric pioline and fabrice santoro however changes can be made to the line up up to an hour before the match and australian team captain john fitzgerald suggested he might do just that we ll make team appraisal of the whole situation go over the pros and cons and make decision french team captain guy forget says he will not make changes but does not know what to expect from australia todd is the best doubles player in the world right now so expect him to play he said would probably use wayne arthurs but don know what to expect really pat rafter salvaged australia davis cup campaign yesterday with win in the second singles match rafter overcame an arm injury to defeat french number one sebastien grosjean in three sets the australian says he is happy with his form it not very pretty tennis there isn too many consistent bounces you are playing like said bit of classic old grass court rafter said rafter levelled the score after lleyton hewitt shock five set loss to nicholas escude in the first singles rubber but rafter says he felt no added pressure after hewitt defeat knew had good team to back me up even if we were down he said knew could win on the last day know the boys can win doubles so even if we were down still feel we are good enough team to win and vice versa they are good enough team to beat us as well»\n",
            "\n",
            "SECOND-MOST (146, 0.7838751077651978): «the australian and south african sides for the first cricket test starting at the adelaide oval today are not expected to be finalised until just before the start of play australian captain steve waugh and his south african counterpart shaun pollock will decide on their lineups after an inspection of the pitch shortly before the start of play the match holds special significance for waugh and his twin brother mark who play their th test together steve waugh is not placing too much relevance on the milestone don want to read too much into it guess and then get too carried away but later on when we retire and look back on it it will be significant it nice for the family mum and dad all the sacrifices they made you know with us growing up and also our brothers so you know it nice for the family he said»\n",
            "\n",
            "MEDIAN (209, 0.25072625279426575): «the federal government has confirmed there is blowout in the defence budget because of the cost of sending troops to afghanistan defence minister robert hill says the government will have to consider delaying some defence projects because of the cost of sending troops to the war against terrorism but says no projects will be scrapped senator hill says the cost of the deployment means some projects outlined in last year defence white paper will have to be reprioritised he says the government options are to boost defence spending or to delay some projects now what saying is you can enter into major undertakings like contributing to the war against terrorism without knowing it going to cost extra money he said we have to fund that there are range of options to do that the federal opposition says senator hill must reveal which projects would be affected shadow defence minister chris evans says the government should also come clean on the cost of using the navy to intercept asylum seekers»\n",
            "\n",
            "LEAST (216, -0.04897982254624367): «senior taliban official confirmed the islamic militia would begin handing over its last bastion of kandahar to pashtun tribal leaders on friday this agreement was that taliban should surrender kandahar peacefully to the elders of these areas and we should guarantee the lives and the safety of taliban authorities and all the taliban from tomorrow should start this program former taliban ambassador to pakistan abdul salam zaeef told cnn in telephone interview he insisted that the taliban would not surrender to hamid karzai the new afghan interim leader and pashtun elder who has been cooperating with the united states to calm unrest among the southern tribes the taliban will surrender to elders not to karzai karzai and other persons which they want to enter kandahar by the support of america they don allow to enter kandahar city he said the taliban will surrender the weapons the ammunition to elders»\n",
            "\n"
          ],
          "name": "stdout"
        }
      ]
    },
    {
      "metadata": {
        "id": "Fsv4sr2jmMzj",
        "colab_type": "text"
      },
      "cell_type": "markdown",
      "source": [
        "Notice above that the most similar document (usually the same text) is has a similarity score approaching 1.0. However, the similarity score for the second-ranked documents should be significantly lower (assuming the documents are in fact different) and the reasoning becomes obvious when we examine the text itself.\n",
        "\n",
        "We can run the next cell repeatedly to see a sampling other target-document comparisons. "
      ]
    },
    {
      "metadata": {
        "id": "Jz9y35BemMzm",
        "colab_type": "code",
        "colab": {
          "base_uri": "https://localhost:8080/",
          "height": 106
        },
        "outputId": "71d1154f-a207-40ff-d98a-2a3b66b191a4"
      },
      "cell_type": "code",
      "source": [
        "# Pick a random document from the corpus and infer a vector from the model\n",
        "doc_id = random.randint(0, len(train_corpus) - 1)\n",
        "\n",
        "# Compare and print the second-most-similar document\n",
        "print('Train Document ({}): «{}»\\n'.format(doc_id, ' '.join(train_corpus[doc_id].words)))\n",
        "sim_id = second_ranks[doc_id]\n",
        "print('Similar Document {}: «{}»\\n'.format(sim_id, ' '.join(train_corpus[sim_id[0]].words)))"
      ],
      "execution_count": 14,
      "outputs": [
        {
          "output_type": "stream",
          "text": [
            "Train Document (99): «the civil aviation safety authority casa says it has already warned operators of piston engined aircraft of the potential dangers of running engines with an overly lean fuel mixture the recommendation is key feature of the transport safety bureau main report into last year fatal whyalla airlines crash in south australia spencer gulf the australian transport safety bureau today released its report into the crash which killed eight people in may last year the report has ruled out pilot error saying mechanical failures in both engines forced the pilot of the plane to ditch the aircraft the civil aviation safety authority says it is already acting on four safety improvement recommendations with further regulation changes due before the end of the year the authority says it has also begun to encourage conservative fuel leaning other recommendations relating to operating and maintenance procedures for high powered piston engines and procedures for ditching aircraft are still to be investigated by casa before formal response is released meanwhile the husband of crash victim teresa pawlik says he is yet to digest the full report but is relieved it has been completed wal pawlik says he and his family are still coming to terms with the loss you carry on don you think it been much more difficult for my daughters that about all can say on that he said»\n",
            "\n",
            "Similar Document (278, 0.7392706274986267): «the royal commission looking into the collapse of insurance giant hih says the possible leak of confidential document is criminal offence royal commissioner justice neville owen has opened the public hearings into the collapse more than eight months after the company was placed into provisional liquidation in his opening statement justice owen called on all parties to adhere to the confidentiality requirements of royal commission justice owen says there could have been leak of report on the role of auditors circulated in early november it is possible that someone to whom the commission delivered copy of the report in strict confidence disclosed its contents to the author of the article if so there may have been breach of section of the royal commissions act that is criminal offence he said»\n",
            "\n"
          ],
          "name": "stdout"
        }
      ]
    },
    {
      "metadata": {
        "id": "fNYG43vdmMz2",
        "colab_type": "text"
      },
      "cell_type": "markdown",
      "source": [
        "## Testing the Model"
      ]
    },
    {
      "metadata": {
        "id": "5YvSfYm4mMz5",
        "colab_type": "text"
      },
      "cell_type": "markdown",
      "source": [
        "Using the same approach above, we'll infer the vector for a randomly chosen test document, and compare the document to our model by eye."
      ]
    },
    {
      "metadata": {
        "id": "cjnWNoEmmMz7",
        "colab_type": "code",
        "colab": {
          "base_uri": "https://localhost:8080/",
          "height": 245
        },
        "outputId": "8be8fe19-bead-4e67-e301-08f493295197"
      },
      "cell_type": "code",
      "source": [
        "# Pick a random document from the test corpus and infer a vector from the model\n",
        "doc_id = random.randint(0, len(test_corpus) - 1)\n",
        "inferred_vector = model.infer_vector(test_corpus[doc_id])\n",
        "sims = model.docvecs.most_similar([inferred_vector], topn=len(model.docvecs))\n",
        "\n",
        "# Compare and print the most/median/least similar documents from the train corpus\n",
        "print('Test Document ({}): «{}»\\n'.format(doc_id, ' '.join(test_corpus[doc_id])))\n",
        "print(u'SIMILAR/DISSIMILAR DOCS PER MODEL %s:\\n' % model)\n",
        "for label, index in [('MOST', 0), ('MEDIAN', len(sims)//2), ('LEAST', len(sims) - 1)]:\n",
        "    print(u'%s %s: «%s»\\n' % (label, sims[index], ' '.join(train_corpus[sims[index][0]].words)))"
      ],
      "execution_count": 15,
      "outputs": [
        {
          "output_type": "stream",
          "text": [
            "Test Document (44): «australian spies listened to conversations between norway ambassador and its foreign office during the tampa crisis soon to be published book will reveal phone calls were tapped by the defence signals directorate when norwegian ambassador ove thorsheim visited the freighter during the stand off book tampa to be published in norway in october recounts the events which triggered australia pacific solution and transformed tampa captain arne rinnan into homeland hero»\n",
            "\n",
            "SIMILAR/DISSIMILAR DOCS PER MODEL Doc2Vec(dm/m,d50,n5,w5,mc2,s0.001,t3):\n",
            "\n",
            "MOST (26, 0.6554314494132996): «pakistan president pervez musharraf says he is ready to meet indian prime minister atal behari vajpayee as fears grow of war between the two countries tensions have escalated since suicide attack on the indian parliament two weeks ago india alleges the attack was backed by the pakistani intelligence service general musharraf says pakistan will never initiate conflict between the two countries he says he is prepared to hold talks with the indian prime minister at regional summit in nepal next week don mind meeting him but as ve said once before you can clap with one hand general musharraf said if there is willingness from the other side there will be willingness from my side»\n",
            "\n",
            "MEDIAN (244, 0.3423009514808655): «the reserve bank has cut official interest rates again still concerned about the slowing global economy the central bank has delivered further cut of of per cent it is the sixth rate cut for the year taking the cash rate to per cent the cut has been quickly passed on in full by all the major banks and host of smaller lenders the reserve bank says international conditions remain weak with the us and japanese economies in recession europe stalled and contractions in number of australia east asian trading partners the bank says and combined will produce the weakest period of growth since the early although the threat of an even sharper decline after the september attacks in the us has abated somewhat low interest rates and sharp drop in oil prices should see recovery start in the months ahead westpac bill evans is among those who believe the cut will not be the last the reserve bank has certainly not closed the door to further rate cuts next year he said»\n",
            "\n",
            "LEAST (19, -0.020552197471261024): «the next few hours are crucial for firefighters on alert in the blue mountains firefighters are working on kilometre fire front in the area which it is feared will devour homes if the wind picks up this afternoon the weather bureau had initially predicted kilometre an hour southerly wind gusts but has revised its forecast to kilometres an hour the wind change is expected to reach the blue mountains in the next hour mark williams the incident controller for the blue mountains region says fire crews will stop back burning as soon as the wind change nears the area soon as we get word the southerly change for instance is getting close to the blue mountains area we initially stop our back burning mr williams said tie it into local creek or something as close as possible so that it contained within that area so we don have further outbreaks»\n",
            "\n"
          ],
          "name": "stdout"
        },
        {
          "output_type": "stream",
          "text": [
            "/usr/local/lib/python3.6/dist-packages/gensim/matutils.py:737: FutureWarning: Conversion of the second argument of issubdtype from `int` to `np.signedinteger` is deprecated. In future, it will be treated as `np.int64 == np.dtype(int).type`.\n",
            "  if np.issubdtype(vec.dtype, np.int):\n"
          ],
          "name": "stderr"
        }
      ]
    },
    {
      "metadata": {
        "id": "Bx5G60lLmM0B",
        "colab_type": "text"
      },
      "cell_type": "markdown",
      "source": [
        "### Wrapping Up\n",
        "\n",
        "That's it! Doc2Vec is a great way to explore relationships between documents."
      ]
    },
    {
      "metadata": {
        "id": "YyoG5HUqmM0C",
        "colab_type": "code",
        "colab": {}
      },
      "cell_type": "code",
      "source": [
        ""
      ],
      "execution_count": 0,
      "outputs": []
    }
  ]
}