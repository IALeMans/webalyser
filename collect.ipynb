{
 "cells": [
  {
   "cell_type": "markdown",
   "metadata": {},
   "source": [
    "## TODO\n",
    "make it more robust and generic. some links like \"http://www.lemans.frjavascript:window.document.form1.submit();\" are not passed\n",
    "collect root url for detected external links"
   ]
  },
  {
   "cell_type": "code",
   "execution_count": null,
   "metadata": {},
   "outputs": [],
   "source": [
    "import urllib3\n",
    "import requests\n",
    "import certifi\n",
    "\n",
    "from bs4 import BeautifulSoup\n",
    "from bs4.element import Comment\n",
    "\n",
    "import pickle\n",
    "import re\n",
    "\n",
    "#import gensim "
   ]
  },
  {
   "cell_type": "code",
   "execution_count": null,
   "metadata": {},
   "outputs": [],
   "source": [
    "def save_pickle(filename, **kwargs):\n",
    "    for key, value in kwargs.items():\n",
    "        with open(filename+'-'+key+'.pickle', 'wb') as handle:\n",
    "            pickle.dump(value, handle, protocol=pickle.HIGHEST_PROTOCOL)"
   ]
  },
  {
   "cell_type": "code",
   "execution_count": null,
   "metadata": {},
   "outputs": [],
   "source": [
    "def load_pickle(filename, links, ext_links, passed_links):\n",
    "    with open(filename+'-links.pickle', 'rb') as handle:\n",
    "        links = pickle.load(handle)            \n",
    "    with open(filename+'-ext_links.pickle', 'rb') as handle:\n",
    "        ext_links = pickle.load(handle)\n",
    "    with open(filename+'-passed_links.pickle', 'rb') as handle:\n",
    "        passed_links = pickle.load(handle)\n",
    "\n",
    "    return links, ext_links, passed_links"
   ]
  },
  {
   "cell_type": "code",
   "execution_count": null,
   "metadata": {},
   "outputs": [],
   "source": [
    "def tag_visible(element):\n",
    "    if element.parent.name in ['style', 'script', 'head', 'title', 'meta', '[document]']:\n",
    "        return False\n",
    "    if isinstance(element, Comment):\n",
    "        return False\n",
    "    return True"
   ]
  },
  {
   "cell_type": "code",
   "execution_count": null,
   "metadata": {},
   "outputs": [],
   "source": [
    "def get_page_content(soup):\n",
    "    texts = soup.findAll(text=True)\n",
    "    visible_texts = filter(tag_visible, texts)  \n",
    "    return u\" \".join(t.strip() for t in visible_texts)"
   ]
  },
  {
   "cell_type": "code",
   "execution_count": null,
   "metadata": {},
   "outputs": [],
   "source": [
    "def add_new_link(soup,links,url):\n",
    "    #print('add new link', url)\n",
    "    if url not in links:\n",
    "        links[url] = False\n",
    "        #print('added')\n",
    "    #else:\n",
    "        #print('passed')\n",
    "    return links"
   ]
  },
  {
   "cell_type": "code",
   "execution_count": null,
   "metadata": {},
   "outputs": [],
   "source": [
    "def get_page_links(soup, links, ext_links, passed_links, root):\n",
    "    for l in soup.find_all('a', href=True):\n",
    "        lURL =  l['href'].strip()\n",
    "        #print('processing link:',lURL,':',len(lURL))\n",
    "        if lURL == '/' \\\n",
    "        or lURL == '' \\\n",
    "        or lURL[:4] == 'tel:' \\\n",
    "        or lURL[:7] == 'mailto:' \\\n",
    "        or lURL[:11] == 'javascript:' \\\n",
    "        or lURL[-4:] == '.pdf' \\\n",
    "        or lURL == '#': \n",
    "            passed_links[lURL]=False\n",
    "        elif (root not in lURL and lURL[:4] == 'http'):\n",
    "            ext_links[lURL]=False\n",
    "        elif root in lURL:\n",
    "            links = add_new_link(soup,links,lURL)\n",
    "        else:\n",
    "            if lURL[0] == '.':\n",
    "                lURL = lURL[1:]\n",
    "            links = add_new_link(soup,links,root+lURL)\n",
    "    return links, ext_links, passed_links"
   ]
  },
  {
   "cell_type": "code",
   "execution_count": null,
   "metadata": {},
   "outputs": [],
   "source": [
    "def get_unread_page(links):\n",
    "    lKey = [key for key, value in links.items() if value == False]\n",
    "    if len(lKey)>0:\n",
    "        #print('next url ',lKey[0])\n",
    "        return lKey[0]\n",
    "    else:\n",
    "        print('no more url')\n",
    "    return None"
   ]
  },
  {
   "cell_type": "code",
   "execution_count": null,
   "metadata": {},
   "outputs": [],
   "source": [
    "#init\n",
    "# get url to scan\n",
    "root = 'http://www.lemans.fr'\n",
    "#root = 'https://www.neuralia.co'\n",
    "\n",
    "http = urllib3.PoolManager(cert_reqs='CERT_REQUIRED',ca_certs=certifi.where())\n",
    "links = {}\n",
    "ext_links = {}\n",
    "passed_links = {}\n",
    "mining = True\n",
    "links[root] = False\n",
    "chars_to_remove = ['.', '/', ':']\n",
    "rx = '[' + re.escape(''.join(chars_to_remove)) + ']'\n",
    "filename = re.sub(rx, '', root)\n",
    "links, ext_links, passed_links = load_pickle(filename, links, ext_links, passed_links)"
   ]
  },
  {
   "cell_type": "code",
   "execution_count": null,
   "metadata": {},
   "outputs": [],
   "source": [
    "# iterate\n",
    "N = 0\n",
    "links, ext_links, passed_links = load_pickle(filename, links, ext_links, passed_links)\n",
    "\n",
    "while mining is True:\n",
    "    url = get_unread_page(links)\n",
    "    print(f'main processing {url} | items in dict: {len(links)} | items to process: {sum(value == False for value in links.values())} ')\n",
    "    if url == None:\n",
    "        mining = False\n",
    "        save_pickle(filename, links=links, ext_links=ext_links, passed_links=passed_links)\n",
    "    else:\n",
    "        response = http.request('GET', url)\n",
    "        soup = BeautifulSoup(response.data,\"html5lib\")\n",
    "        print('souped')\n",
    "        links, ext_links, passed_links = get_page_links(soup, links, ext_links, passed_links, root)\n",
    "        links[url] = get_page_content(soup)\n",
    "        print(links[url][:50])\n",
    "    \n",
    "    if(not N % 100):\n",
    "        print(f'pickling')\n",
    "        save_pickle(filename, links=links, ext_links=ext_links, passed_links=passed_links)\n",
    "    N +=1"
   ]
  },
  {
   "cell_type": "code",
   "execution_count": null,
   "metadata": {},
   "outputs": [],
   "source": [
    "save_pickle(filename, links=links, ext_links=ext_links, passed_links=passed_links)"
   ]
  },
  {
   "cell_type": "code",
   "execution_count": null,
   "metadata": {},
   "outputs": [],
   "source": [
    "for key,value in passed_links.items():\n",
    "    print(key)\n",
    "    #print(value)"
   ]
  },
  {
   "cell_type": "code",
   "execution_count": null,
   "metadata": {},
   "outputs": [],
   "source": [
    "for key,value in ext_links.items():\n",
    "    print(key)\n",
    "    #print(value)"
   ]
  },
  {
   "cell_type": "code",
   "execution_count": null,
   "metadata": {},
   "outputs": [],
   "source": [
    "for key,value in links.items():\n",
    "    print(key)\n",
    "    print(value == False)"
   ]
  },
  {
   "cell_type": "code",
   "execution_count": null,
   "metadata": {},
   "outputs": [],
   "source": [
    "links['http://www.lemans.fr/nos-autres-sites/consulter-le-site-de-la-cite-du-cirque/']"
   ]
  },
  {
   "cell_type": "code",
   "execution_count": null,
   "metadata": {},
   "outputs": [],
   "source": [
    "save_pickle(filename, links=links, ext_links=ext_links, passed_links=passed_links)"
   ]
  },
  {
   "cell_type": "code",
   "execution_count": null,
   "metadata": {},
   "outputs": [],
   "source": [
    "a= [\"http://www.lemans.frjavascript:linkTo_UnCryptMailto('nbjmup+kfbo.nbsd\\/epsnfbvAmbqptuf\\/ofu');\",\n",
    "   \"http://www.lemans.frjavascript:window.document.form1.submit();\",\n",
    "   \"http://www.lemans.frjavascript:void(0)\",\n",
    "   \"http://www.lemans.frjavascript:linkTo_UnCryptMailto('nbjmup+stnboefmb\\/tfdsfubsjbuAxbobepp\\/gs');\",\n",
    "    \"http://www.lemans.frjavascript:linkTo_UnCryptMailto('nbjmup+tbsuif.nbzfoofAibcjubu.ivnbojtnf\\/psh');\",\n",
    "   \"http://www.lemans.frjavascript:linkTo_UnCryptMailto('nbjmup+eeu.bobiAtbsuif\\/hpvw\\/gs');\"]\n",
    "a=[\"http://www.lemans.frindex.do\",\"http://www.lemans.frtheme_oublimdp_afficher.do\",\"http://www.lemans.frmentions_legales.do\",\"http://www.lemans.frentete\",\"http://www.lemans.fr/dynamique/bienvenue/les-ambassadeurs/les-portraits/#firstMenu\"]\n",
    "a=[\"http://www.lemans.frhtpp://www.coprugbylemans.com\"]\n",
    "a=[\"http://www.lemans.frhtpp://musicalemans.fr/\"]"
   ]
  },
  {
   "cell_type": "code",
   "execution_count": null,
   "metadata": {},
   "outputs": [],
   "source": [
    "b=[\"htpp://www.coprugbylemans.com\",\"htpp://musicalemans.fr/\"]"
   ]
  },
  {
   "cell_type": "code",
   "execution_count": null,
   "metadata": {},
   "outputs": [],
   "source": [
    "for a1 in a:\n",
    "    print(a1)\n",
    "    try:\n",
    "        del links[a1]\n",
    "    except:\n",
    "        print(a1,' not found')\n",
    "        \n",
    "for b1 in b:\n",
    "    ext_links[b1]=False\n",
    "    \n",
    "save_pickle(filename, links=links, ext_links=ext_links, passed_links=passed_links)"
   ]
  },
  {
   "cell_type": "code",
   "execution_count": null,
   "metadata": {},
   "outputs": [],
   "source": [
    "#get domain of external links"
   ]
  },
  {
   "cell_type": "code",
   "execution_count": null,
   "metadata": {},
   "outputs": [],
   "source": [
    "#ride links contents"
   ]
  },
  {
   "cell_type": "code",
   "execution_count": null,
   "metadata": {},
   "outputs": [],
   "source": []
  }
 ],
 "metadata": {
  "kernelspec": {
   "display_name": "Python 3",
   "language": "python",
   "name": "python3"
  },
  "language_info": {
   "codemirror_mode": {
    "name": "ipython",
    "version": 3
   },
   "file_extension": ".py",
   "mimetype": "text/x-python",
   "name": "python",
   "nbconvert_exporter": "python",
   "pygments_lexer": "ipython3",
   "version": "3.7.0"
  }
 },
 "nbformat": 4,
 "nbformat_minor": 2
}
