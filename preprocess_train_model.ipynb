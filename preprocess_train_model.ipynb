{
 "cells": [
  {
   "cell_type": "code",
   "execution_count": null,
   "metadata": {},
   "outputs": [],
   "source": [
    "import gensim, logging\n",
    "from gensim.models import Word2Vec, word2vec\n",
    "import string\n",
    "import unicodedata\n",
    "import collections\n",
    "\n",
    "import nltk\n",
    "nltk.download('punkt')\n",
    "\n",
    "import spacy\n",
    "nlp = spacy.load('fr')\n",
    "from spacy.lang.fr.stop_words import STOP_WORDS"
   ]
  },
  {
   "cell_type": "code",
   "execution_count": null,
   "metadata": {},
   "outputs": [],
   "source": [
    "def get_stopwords(STOP_WORDS):\n",
    "    punctuations = string.punctuation\n",
    "    stopchars = punctuations \n",
    "    stopwords_ = {'et'}\n",
    "    stopwords = STOP_WORDS.union(stopwords_)        \n",
    "    return stopwords, stopchars"
   ]
  },
  {
   "cell_type": "code",
   "execution_count": null,
   "metadata": {},
   "outputs": [],
   "source": [
    "def text_process(mess, stopwords, stopchars, dedoubl=True):\n",
    "    \"\"\"\n",
    "    Takes in a string of text, then performs the following:\n",
    "    - lowerize string\n",
    "    - Remove all punctuation\n",
    "    - Remove all stopwords\n",
    "    - Returns a list of the cleaned text\n",
    "    \"\"\"\n",
    "    #remove punctuations + concat chars\n",
    "    nopunc = ''.join([char if char not in stopchars else ' ' for char in mess]).replace('’',' ').replace('œ','oe')\n",
    "    #remove accents\n",
    "    nopunc = unicodedata.normalize('NFKD', nopunc).encode('ASCII', 'ignore').decode(\"utf-8\")#.replace('œ','oe')\n",
    "    #remove stop words + remove digits + lowerize\n",
    "    tokens = ' '.join([word.lower() for word in nopunc.split() if (word.lower() not in stopwords and not word.lower().replace(' ','').isdigit())]) \n",
    "    if dedoubl:\n",
    "        #tokens = stemming_dedoubl_txt(tokens)\n",
    "        tokens = [word for word in tokens.split()]\n",
    "        return ' '.join(tokens)\n",
    "    else:\n",
    "        #tokens = stemming_txt(toke\n",
    "        ns)\n",
    "        return tokens"
   ]
  },
  {
   "cell_type": "code",
   "execution_count": null,
   "metadata": {},
   "outputs": [],
   "source": [
    "def words_count(list_):\n",
    "    wordcount = {}\n",
    "    stopwords = get_stopwords(STOP_WORDS)\n",
    "    for line in list_:\n",
    "        #print('debug line',line)\n",
    "        for word in line.split():\n",
    "            #print('debug word',word)\n",
    "            if word not in stopwords:\n",
    "                if word not in wordcount:\n",
    "                    wordcount[word] = 1\n",
    "                else:\n",
    "                    wordcount[word] += 1\n",
    "                \n",
    "    return collections.Counter(wordcount)"
   ]
  },
  {
   "cell_type": "code",
   "execution_count": null,
   "metadata": {},
   "outputs": [],
   "source": [
    "with open('doc.txt', 'r') as f:\n",
    "    docs = f.readlines()"
   ]
  },
  {
   "cell_type": "code",
   "execution_count": null,
   "metadata": {},
   "outputs": [],
   "source": [
    "len(docs)"
   ]
  },
  {
   "cell_type": "code",
   "execution_count": null,
   "metadata": {},
   "outputs": [],
   "source": [
    "type(docs)"
   ]
  },
  {
   "cell_type": "code",
   "execution_count": null,
   "metadata": {},
   "outputs": [],
   "source": [
    "string.punctuation"
   ]
  },
  {
   "cell_type": "code",
   "execution_count": null,
   "metadata": {},
   "outputs": [],
   "source": [
    "#[item.upper() for item in mylis]\n",
    "#documents = map(text_process, docs)\n",
    "stopwords, stopchars = get_stopwords(STOP_WORDS)\n",
    "documents = [ text_process(item, stopwords, stopchars) for item in docs]"
   ]
  },
  {
   "cell_type": "code",
   "execution_count": null,
   "metadata": {},
   "outputs": [],
   "source": [
    "documents[:20]"
   ]
  },
  {
   "cell_type": "code",
   "execution_count": null,
   "metadata": {},
   "outputs": [],
   "source": [
    "word_counter = words_count(documents)\n",
    "most_common = []\n",
    "\n",
    "for word, count in word_counter.most_common(len(word_counter) // 5):\n",
    "    most_common.append(word)"
   ]
  },
  {
   "cell_type": "code",
   "execution_count": null,
   "metadata": {},
   "outputs": [],
   "source": [
    "most_common"
   ]
  },
  {
   "cell_type": "code",
   "execution_count": null,
   "metadata": {},
   "outputs": [],
   "source": [
    "model = gensim.models.Word2Vec (documents, size=160, window=10, min_count=2, workers=10)"
   ]
  },
  {
   "cell_type": "code",
   "execution_count": null,
   "metadata": {},
   "outputs": [],
   "source": []
  }
 ],
 "metadata": {
  "kernelspec": {
   "display_name": "Python 3",
   "language": "python",
   "name": "python3"
  },
  "language_info": {
   "codemirror_mode": {
    "name": "ipython",
    "version": 3
   },
   "file_extension": ".py",
   "mimetype": "text/x-python",
   "name": "python",
   "nbconvert_exporter": "python",
   "pygments_lexer": "ipython3",
   "version": "3.7.0"
  }
 },
 "nbformat": 4,
 "nbformat_minor": 2
}
